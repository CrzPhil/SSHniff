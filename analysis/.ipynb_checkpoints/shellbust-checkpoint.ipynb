{
 "cells": [
  {
   "cell_type": "markdown",
   "id": "5fd13dc0-cdb0-4259-941e-bce0d0d52fee",
   "metadata": {},
   "source": [
    "## Information\n",
    "This notebook contains the cherry-picked functions from `analysis.ipynb` and works as a more streamlined interface to load datasets and try out pattern matching. It does not follow the same \"walkthrough\"-style as `analysis.ipynb`, so for a more detailed account of each step, refer to `analysis.ipynb`, instead. \n",
    "\n",
    "This was/is used to run tests and play around with sequences, but essentially reuses the functions defined in `analysis.ipynb`."
   ]
  },
  {
   "cell_type": "code",
   "execution_count": 1,
   "id": "e4954589-793b-4940-bec7-baf777cc08ba",
   "metadata": {},
   "outputs": [],
   "source": [
    "import json\n",
    "import matplotlib.pyplot as plt\n",
    "import os\n",
    "from collections import defaultdict, OrderedDict\n",
    "import random\n",
    "from scipy.interpolate import make_interp_spline\n",
    "from dtaidistance import dtw\n",
    "import numpy as np\n",
    "import sys\n",
    "from sklearn.ensemble import RandomForestClassifier\n",
    "from tsfresh.feature_extraction import ComprehensiveFCParameters, extract_features\n",
    "from tsfresh.utilities.dataframe_functions import impute\n",
    "import pandas as pd\n",
    "from sklearn.ensemble import RandomForestClassifier"
   ]
  },
  {
   "cell_type": "code",
   "execution_count": 2,
   "id": "2355f06b-6359-49e9-8d7d-5e316ca2d048",
   "metadata": {},
   "outputs": [],
   "source": [
    "def load_dataset(datadir, combine_tokens=False, tokens=None, backspaces=False):\n",
    "    \"\"\"\n",
    "    Parent function for loading the dataset.\n",
    "\n",
    "    datadir -> Parent directory of .json files with the keystroke data.\n",
    "    combine_tokens (bool) -> Should common tokens be extracted into a new keyword?\n",
    "    tokens (set) -> Set of tokens to extract into keywords.\n",
    "    backspaces (bool) -> If True, backspaces will be kept- otherwise, feed to handle_backspaces (default)\n",
    "    \"\"\"\n",
    "    data = {'sessions': []}\n",
    "\n",
    "    # Load JSON files\n",
    "    files = [fname for fname in os.listdir(datadir) if fname.endswith('.json')]\n",
    "    \n",
    "    for file in files:\n",
    "        with open(f\"{datadir}{file}\", \"r\") as f:\n",
    "            js = json.load(f)\n",
    "            data['sessions'].extend(js['sessions'])\n",
    "\n",
    "    # Turn dict into command -> [[keystrokes]] map\n",
    "    commands = defaultdict(list)\n",
    "    for session in data['sessions']:\n",
    "        command = session['command']\n",
    "        keystrokes = session['keystrokes']\n",
    "        if len(keystrokes) == 0 or len(keystrokes) < len(command):\n",
    "               continue\n",
    "        commands[command].append(keystrokes)\n",
    "\n",
    "    # Zero the first latency for each session.\n",
    "    for cmd in commands.keys():\n",
    "        for session in commands[cmd]:\n",
    "            session[0]['latency'] = 0\n",
    "\n",
    "    # Requires backspaces to be handled beforehand\n",
    "    if combine_tokens and tokens:\n",
    "        commands = handle_backspaces(commands)\n",
    "        commands = combine_common_tokens(commands, tokens)\n",
    "    elif not backspaces:\n",
    "        commands = handle_backspaces(commands)\n",
    "\n",
    "    return commands"
   ]
  },
  {
   "cell_type": "code",
   "execution_count": 3,
   "id": "783d99fb-f121-4cd5-aabf-f233060d51d3",
   "metadata": {},
   "outputs": [],
   "source": [
    "def combine_common_tokens(dataset, common_tokens: set):\n",
    "    \"\"\"\n",
    "    Certain keywords are reused in the dataset. We can combine them for increased coverage.\n",
    "    i.e. sudo, install, apt, service, etc.\n",
    "    \n",
    "    # common_tokens = set([\"sudo\", \"install\", \"service\", \"pacman\", \"systemctl\"])\n",
    "    \"\"\"\n",
    "    aggregated_data = defaultdict(list)\n",
    "\n",
    "    for command, sessions in dataset.items():\n",
    "        splices = command.split()\n",
    "        indices = [0]\n",
    "        \n",
    "        # Accumulate indices positions\n",
    "        for i in range(1, len(splices)):\n",
    "            indices.append(indices[-1] + len(splices[i-1]) + 1)  # Account for spaces\n",
    "\n",
    "        for i, word in enumerate(splices):\n",
    "            if word in common_tokens:\n",
    "                start_idx = indices[i]\n",
    "                end_idx = start_idx + len(word)  # Not including the space after the word\n",
    "\n",
    "                # Extract the keystrokes corresponding to the word\n",
    "                keystrokes = [session[start_idx:end_idx] for session in sessions]\n",
    "                \n",
    "                # Optionally nullify the first latency in each session to normalize start time\n",
    "                for keystroke in keystrokes:\n",
    "                    if keystroke:  # Ensure it's not an empty list\n",
    "                        keystroke[0]['latency'] = 0\n",
    "\n",
    "                aggregated_data[word].extend(keystrokes)\n",
    "\n",
    "        # Add the full command data\n",
    "        aggregated_data[command].extend(sessions)\n",
    "\n",
    "    return aggregated_data"
   ]
  },
  {
   "cell_type": "code",
   "execution_count": 4,
   "id": "afd8ccbc-b231-436f-89fa-ddf558c9ae47",
   "metadata": {},
   "outputs": [],
   "source": [
    "def handle_backspaces(dataset):\n",
    "    \"\"\"\n",
    "    Account for backspaces in a session by removing the extra keystroke.\n",
    "\n",
    "    Latencies are not modified, so the latency between a \"false\" keystroke and the next \"correct\" keystroke prevails.\n",
    "    Remains to be seen what the most optimal solution for this is; this seemed to work \"okay\", however.\n",
    "    \"\"\"\n",
    "    for command in dataset.keys():\n",
    "        for sequence in dataset[command]:\n",
    "            i = 0\n",
    "            while i < len(sequence)-1:\n",
    "                if sequence[i]['key'] == 'Backspace':\n",
    "                    curr = sequence[i]\n",
    "                    prev = sequence[i-1]\n",
    "                    if i != 0:\n",
    "                        sequence.remove(prev)\n",
    "                        sequence.remove(curr)\n",
    "                        i -= 1\n",
    "                        continue\n",
    "                    else:\n",
    "                        sequence.remove(curr)\n",
    "                        sequence[i+1]['latency'] = 0\n",
    "                        continue\n",
    "                i += 1\n",
    "    return dataset"
   ]
  },
  {
   "cell_type": "code",
   "execution_count": 5,
   "id": "00013d81-4f4c-4eb5-8ba7-44c26c17360a",
   "metadata": {},
   "outputs": [],
   "source": [
    "def plot_command_latencies(keystroke_sequences, command):\n",
    "    \"\"\"\n",
    "    Plot all latencies of a given command together.\n",
    "\n",
    "    Latency (y) is in milliseconds.\n",
    "    X-axis shows the keystroke id.\n",
    "    \"\"\"\n",
    "    plt.figure(figsize=(12, 8))\n",
    "    \n",
    "    for sequence_idx, sequence in enumerate(keystroke_sequences):\n",
    "        normal_keys_x = []\n",
    "        normal_keys_y = []\n",
    "        backspace_keys_x = []\n",
    "        backspace_keys_y = []\n",
    "        \n",
    "        for keystroke_idx, keystroke in enumerate(sequence):\n",
    "            if keystroke['key'] == 'Backspace':\n",
    "                backspace_keys_x.append(keystroke_idx)\n",
    "                backspace_keys_y.append(keystroke['latency'])\n",
    "            normal_keys_x.append(keystroke_idx)\n",
    "            normal_keys_y.append(keystroke['latency'])\n",
    "                \n",
    "        # Regular Keystrokes\n",
    "        plt.plot(normal_keys_x, normal_keys_y, marker='o', linestyle='-', label=f'Session {sequence_idx + 1} Keystrokes', zorder=1)\n",
    "        # Backspace Keystrokes\n",
    "        if backspace_keys_x:\n",
    "            plt.scatter(backspace_keys_x, backspace_keys_y, color='red', marker='x', label=f'Session {sequence_idx + 1} Backspaces', zorder=2)\n",
    "\n",
    "    plt.title(f'Latencies for Command: {command}')\n",
    "    plt.xlabel('Keystroke Sequence Number')\n",
    "    plt.ylabel('Latency (ms)')\n",
    "    plt.legend(bbox_to_anchor=(.76, 1), loc='upper left')\n",
    "    plt.grid(True)\n",
    "    plt.show()"
   ]
  },
  {
   "cell_type": "code",
   "execution_count": 6,
   "id": "e10783af-c64c-4318-adcc-ecc8bbd43c79",
   "metadata": {},
   "outputs": [],
   "source": [
    "def plot_command_distribution(keystroke_sequences, command):\n",
    "    \"\"\"\n",
    "    Plot all latencies of a given command together, including the mean latency line.\n",
    "\n",
    "    Will render an extra phantom-keystroke (return) for keywords taken from tokenisation (combine_common_tokens).\n",
    "\n",
    "    Note:\n",
    "        This function contains code generated by ChatGPT. The exact prompt and response are referenced in Appendix B \n",
    "        of the project report. \n",
    "        GPT was prompted to come up with a way to graph the mean latency trajectory as a smooth red line.\n",
    "        Its code was not taken verbatim, but the suggested `scipy.interpolate.make_interp_spline` function was used. \n",
    "    \"\"\"\n",
    "    plt.figure(figsize=(12, 8))\n",
    "\n",
    "    total_latencies = [0] * (len(command) + 1)\n",
    "    count_per_position = [0] * (len(command) + 1)\n",
    "\n",
    "    # Plot each keystroke sequence\n",
    "    for sequence in keystroke_sequences:\n",
    "        normal_keys_x = []\n",
    "        normal_keys_y = []\n",
    "        \n",
    "        for idx, keystroke in enumerate(sequence):\n",
    "            normal_keys_x.append(idx)\n",
    "            normal_keys_y.append(keystroke['latency'])\n",
    "            if idx < len(total_latencies):\n",
    "                total_latencies[idx] += keystroke['latency']\n",
    "                count_per_position[idx] += 1\n",
    "\n",
    "        plt.plot(normal_keys_x, normal_keys_y, marker='o', linestyle='-', color='blue', alpha=0.3, zorder=1)\n",
    "    \n",
    "    # Calculate mean latencies\n",
    "    means = [total_latencies[i] / count_per_position[i] if count_per_position[i] else 0 for i in range(len(command)+1)]\n",
    "    x_new = np.linspace(0, len(command), 300)\n",
    "\n",
    "    # - taken from ChatGPT -\n",
    "    # Smoothing the line \n",
    "    spl = make_interp_spline(range(len(command)+1), means, k=3)  # BSpline object\n",
    "    y_smooth = spl(x_new)\n",
    "\n",
    "    plt.plot(x_new, y_smooth, marker='', linestyle='-', label='Mean keystroke latency', color='red', linewidth=2, zorder=2)\n",
    "    # - End of Excerpt -\n",
    "    \n",
    "    plt.title(f'Mean latencies for command: \"{command}\"')\n",
    "    plt.xlabel('Keystroke Sequence Number')\n",
    "    plt.ylabel('Latency (ms)')\n",
    "    plt.legend(bbox_to_anchor=(.78, 1), loc='upper left')\n",
    "    plt.grid(True)\n",
    "    plt.tight_layout()\n",
    "    plt.show()"
   ]
  },
  {
   "cell_type": "code",
   "execution_count": 7,
   "id": "b2312696-3e64-484c-9fdf-21a36afc6070",
   "metadata": {},
   "outputs": [],
   "source": [
    "def load_ssh_session(path, stream=0):\n",
    "    \"\"\"\n",
    "    Load SSHniff session (JSON) output.\n",
    "\n",
    "    By default, assume single-session.\n",
    "    \"\"\"\n",
    "    stream = str(stream)\n",
    "    \n",
    "    with open(path, \"r\") as f:\n",
    "        data = json.loads(f.read())\n",
    "    \n",
    "    if stream not in data:\n",
    "        print(f\"Stream {stream} not found.\")\n",
    "        stream, stream_data = data.popitem()\n",
    "        print(f\"Using stream {stream} instead.\")\n",
    "    else:\n",
    "        stream_data = data[stream]\n",
    "    \n",
    "    # SSHniff full output\n",
    "    if 'keystroke_data' in stream_data:\n",
    "        return handle_ssh_backspaces(convert_latencies(stream_data['keystroke_data']))\n",
    "    \n",
    "    # Only keystroke data\n",
    "    return handle_ssh_backspaces(convert_latencies(stream_data))"
   ]
  },
  {
   "cell_type": "code",
   "execution_count": 8,
   "id": "fa88f566-aa8d-41c7-8d93-e8f2601d6b3b",
   "metadata": {},
   "outputs": [],
   "source": [
    "def convert_latencies(ssh_data):\n",
    "    \"\"\"\n",
    "    Convert latencies from microseconds to milliseconds. \n",
    "    \"\"\"\n",
    "    for sequence in ssh_data:\n",
    "        for keystroke in sequence:\n",
    "            keystroke['timestamp'] = keystroke['timestamp'] / 1000\n",
    "    return ssh_data"
   ]
  },
  {
   "cell_type": "code",
   "execution_count": 9,
   "id": "611c09e7-e403-4fec-a3df-b0227e71b16f",
   "metadata": {},
   "outputs": [],
   "source": [
    "def handle_ssh_backspaces(ssh_data):\n",
    "    \"\"\"\n",
    "    Account for backspaces in a session by removing the extra keystroke.\n",
    "\n",
    "    This should always mirror the implementation for `handle_backspaces`.\n",
    "    \"\"\"\n",
    "    for sequence in ssh_data:\n",
    "        i = 0\n",
    "        while i < len(sequence)-1:\n",
    "            if sequence[i]['k_type'] == 'Delete':\n",
    "                curr = sequence[i]\n",
    "                prev = sequence[i-1]\n",
    "                if i != 0:\n",
    "                    sequence.remove(prev)\n",
    "                    sequence.remove(curr)\n",
    "                    i -= 1\n",
    "                    continue\n",
    "                else:\n",
    "                    sequence.remove(curr)\n",
    "                    sequence[i+1]['timestamp'] = 0\n",
    "                    continue\n",
    "            i += 1\n",
    "        # Hacky but functional. Catches edge cases\n",
    "        sequence[0]['timestamp'] = 0\n",
    "    return ssh_data"
   ]
  },
  {
   "cell_type": "code",
   "execution_count": 10,
   "id": "62d4bb19-7939-4893-8d48-a4af526dc5bd",
   "metadata": {},
   "outputs": [],
   "source": [
    "def plot_ssh_latency(sequence):\n",
    "    \"\"\"\n",
    "    Plots SSH keystrokes (unlabelled).\n",
    "\n",
    "    Y-Axis: Latency (ms)\n",
    "    X-Axis: Keystroke ID\n",
    "    \"\"\"\n",
    "    plt.figure(figsize=(12, 8))\n",
    "    normal_keys_x = []\n",
    "    normal_keys_y = []\n",
    "    backspace_keys_x = []\n",
    "    backspace_keys_y = []\n",
    "    enter_keys_x = []\n",
    "    enter_keys_y = []\n",
    "\n",
    "    for keystroke_idx, keystroke in enumerate(sequence):\n",
    "        if keystroke['k_type'] == 'Delete':\n",
    "            backspace_keys_x.append(keystroke_idx)\n",
    "            backspace_keys_y.append(keystroke['timestamp'])\n",
    "        elif keystroke['k_type'] == 'Enter':\n",
    "            enter_keys_x.append(keystroke_idx)\n",
    "            enter_keys_y.append(keystroke['timestamp'])\n",
    "        normal_keys_x.append(keystroke_idx)\n",
    "        normal_keys_y.append(keystroke['timestamp'])\n",
    "                \n",
    "    # Regular Keystrokes\n",
    "    plt.plot(normal_keys_x, normal_keys_y, marker='o', linestyle='-', label=f'Session 1 Keystrokes', zorder=1)\n",
    "    # Backspaces \n",
    "    plt.scatter(backspace_keys_x, backspace_keys_y, color='red', marker='x', label=f'Session 1 Backspaces', zorder=2)\n",
    "    # Return (Enter)\n",
    "    plt.scatter(enter_keys_x, enter_keys_y, color='green', marker='x', label=f'Session 1 Return', zorder=3)\n",
    "\n",
    "    plt.title(f'Latencies for SSH sequence')\n",
    "    plt.xlabel('Keystroke Sequence Number')\n",
    "    plt.ylabel('Latency (ms)')\n",
    "    plt.legend(bbox_to_anchor=(.76,1), loc='upper left')\n",
    "    plt.grid(True)\n",
    "    plt.show()"
   ]
  },
  {
   "cell_type": "code",
   "execution_count": 11,
   "id": "09b08bf5-5d66-40fc-a8fb-bd9a6fc62309",
   "metadata": {},
   "outputs": [],
   "source": [
    "def plot_ssh_sessions(ssh_sessions):\n",
    "    \"\"\"\n",
    "    Plots SSH sessions \n",
    "    \"\"\"\n",
    "    plt.figure(figsize=(12, 8))\n",
    "    \n",
    "    for sequence_idx, sequence in enumerate(ssh_sessions):\n",
    "        keystroke_times = [event['timestamp'] for event in sequence if event['k_type'] == 'Keystroke']\n",
    "        enter_times = [event['timestamp'] for event in sequence if event['k_type'] == 'Enter']\n",
    "        enter_sizes = [event['response_size'] for event in sequence if event['k_type'] == 'Enter']\n",
    "        \n",
    "        # Plotting keystrokes\n",
    "        plt.plot(keystroke_times, [sequence_idx + 1] * len(keystroke_times), 'bo', label='Keystrokes' if sequence_idx == 0 else \"\")\n",
    "        \n",
    "        # Plotting Enter presses\n",
    "        for enter_time, size in zip(enter_times, enter_sizes):\n",
    "            plt.plot(enter_time, sequence_idx + 1, 'rx', label='Enter Press' if sequence_idx == 0 else \"\")\n",
    "            plt.text(enter_time, sequence_idx + 1, f' {size}B', verticalalignment='bottom')\n",
    "\n",
    "    plt.yticks(range(1, len(ssh_sessions) + 1), [f'Sequence {i+1}' for i in range(len(ssh_sessions))])\n",
    "    plt.title('SSH Packet Timestamps and Returned Data Size')\n",
    "    plt.xlabel('Time (ms)')\n",
    "    plt.ylabel('Sequence Number')\n",
    "    plt.legend()\n",
    "    plt.grid(True)\n",
    "    plt.show()"
   ]
  },
  {
   "cell_type": "code",
   "execution_count": 12,
   "id": "b70d8a22-97a1-4870-9576-5c1fea758728",
   "metadata": {},
   "outputs": [],
   "source": [
    "def plot_ssh_vs_command(ssh_sequence, command_mean_latencies, command):\n",
    "    \"\"\"\n",
    "    Plots an observed SSH sequence's latencies against the mean of the guessed (or any) command.\n",
    "    \"\"\"\n",
    "    plt.figure(figsize=(12, 8))\n",
    "    ssh_latencies = [keystroke['timestamp'] for keystroke in ssh_sequence if keystroke['k_type'] == 'Keystroke']\n",
    "\n",
    "    # Plot observed SSH sequence latencies\n",
    "    plt.plot(range(len(ssh_latencies)), ssh_latencies, color='blue', marker='o', linestyle='-', label='Observed SSH Keystrokes', zorder=2)\n",
    "\n",
    "    # Plot command mean latencies\n",
    "    # Interpolation for smoothness\n",
    "    x_new = np.linspace(0, len(command_mean_latencies) - 1, 300)  # 300 points for smooth line\n",
    "    spl = make_interp_spline(range(len(command_mean_latencies)), command_mean_latencies, k=3)  # BSpline object\n",
    "    y_smooth = spl(x_new)\n",
    "    \n",
    "    plt.plot(x_new, y_smooth, 'r-', label='Mean Command Latencies', linewidth=2, zorder=1)\n",
    "\n",
    "    plt.title(f'Observed SSH Latencies vs. \"{command}\" Command Mean Latencies')\n",
    "    plt.xlabel('Keystroke Sequence Number')\n",
    "    plt.ylabel('Latency (ms)')\n",
    "    plt.legend(loc='upper left')\n",
    "    plt.grid(True)\n",
    "    plt.tight_layout()\n",
    "    plt.show()"
   ]
  },
  {
   "cell_type": "code",
   "execution_count": 13,
   "id": "967af2ed-6c04-4ca8-9b70-aa287087360d",
   "metadata": {},
   "outputs": [],
   "source": [
    "def get_mean_latencies(command, command_dataset):\n",
    "    \"\"\"\n",
    "    Calculates mean latency per keystroke pair for a given command.\n",
    "\n",
    "    Expects get_mean_latencies('id', cmds['id'])\n",
    "    Ignores RET, unless command has an extra character at the end.\n",
    "        i.e. \"sudo apt update \" <--- the space will cause the RET \n",
    "        at the end to also be included in the mean latencies.\n",
    "    Returns a numpy array of the means, with length == len(command).\n",
    "    \"\"\"\n",
    "    means = [0 for i in range(len(command))]\n",
    "    for letter_index, letter in enumerate(command):\n",
    "        for sequence in command_dataset:\n",
    "            means[letter_index] += sequence[letter_index]['latency']\n",
    "    means = [i / len(command_dataset) for i in means]\n",
    "    return np.array(means)"
   ]
  },
  {
   "cell_type": "code",
   "execution_count": 14,
   "id": "61b1509d-7e20-4007-b06d-ecab91a36810",
   "metadata": {},
   "outputs": [],
   "source": [
    "def eliminate_candidates(intercept_length, command_dataset):\n",
    "    \"\"\"\n",
    "    Reduces the scope of possible commands.\n",
    "\n",
    "    Using the intercepted command's length, we can exclude commands with \n",
    "    a minimum length longer than the intercept. \n",
    "        i.e.: A five-letter intercept (XXXXX) cannot be ifconfig, no matter\n",
    "        how well the signature might match.\n",
    "    \"\"\"\n",
    "    candidates = {}\n",
    "    for command in command_dataset.keys():\n",
    "        splices = command.split(' ')\n",
    "#        if splices[0] == 'sudo':\n",
    "#            if len(splices[1]) + 5 > intercept_length:\n",
    "#                # Ignore command if itself \n",
    "#                continue\n",
    "        # Ignore command\n",
    "        if len(splices[0]) > intercept_length:\n",
    "            continue\n",
    "        else:\n",
    "            candidates[command] = command_dataset[command]\n",
    "    return candidates"
   ]
  },
  {
   "cell_type": "code",
   "execution_count": 15,
   "id": "f28e78cb-4100-4dc5-b085-ac4cf4c4a655",
   "metadata": {},
   "outputs": [],
   "source": [
    "def find_best_match(intercepted, command_dataset):\n",
    "    \"\"\"\n",
    "    Creates an ordered list of the distance of all possible commands to an intercepted sequence.\n",
    "\n",
    "    Distance is calculated using Dynamic Time Warping (DTW). \n",
    "    Latencies are normalised before being fed to dtw- show significantly better results.\n",
    "    \"\"\"\n",
    "    # Normalise intercepted keystrokes\n",
    "    unlabeled_latencies = np.array([keystroke['timestamp'] for keystroke in intercepted])\n",
    "    unlabeled_norm = unlabeled_latencies / np.max(unlabeled_latencies)\n",
    "\n",
    "    distances = []\n",
    "    # Only consider commands that have a min_len >= len(intercepted)\n",
    "    candidates = eliminate_candidates(len(intercepted), command_dataset)\n",
    "    for command in candidates.keys():\n",
    "        try:\n",
    "            # Get mean keystroke latencies, but only up to len(intercepted)\n",
    "            cmd_mean_latencies = get_mean_latencies(command, command_dataset[command])[:len(intercepted)]\n",
    "        except:\n",
    "            print(f\"failed at {command}\")\n",
    "            continue\n",
    "\n",
    "        known_norm = cmd_mean_latencies / np.max(cmd_mean_latencies)\n",
    "        distance = dtw.distance(unlabeled_norm, known_norm)\n",
    "        distances.append((command, distance))\n",
    "\n",
    "    distances = sorted(distances, key=lambda x: x[1])\n",
    "    return distances"
   ]
  },
  {
   "cell_type": "code",
   "execution_count": 16,
   "id": "3bd196d0-3216-4bb0-99b1-c481aa06bbac",
   "metadata": {},
   "outputs": [],
   "source": [
    "from scipy.stats import pearsonr\n",
    "\n",
    "def find_best_match_pearson(intercepted, command_dataset):\n",
    "    \"\"\"\n",
    "    Finds the best match for an intercepted sequence by calculating the pearson correlation coefficient.\n",
    "    \"\"\"\n",
    "    # Normalise intercepted keystrokes\n",
    "    unlabeled_latencies = np.array([keystroke['timestamp'] for keystroke in intercepted])\n",
    "    unlabeled_norm = unlabeled_latencies / np.max(unlabeled_latencies)\n",
    "\n",
    "    distances = []\n",
    "    # Only consider commands that have a min_len >= len(intercepted)\n",
    "    candidates = eliminate_candidates(len(intercepted), command_dataset)\n",
    "    for command in candidates.keys():\n",
    "        try:\n",
    "            # Get mean keystroke latencies, normalized, for up to len(intercepted)\n",
    "            cmd_mean_latencies = get_mean_latencies(command, command_dataset[command])[:len(intercepted)]\n",
    "            known_norm = cmd_mean_latencies / np.max(cmd_mean_latencies)\n",
    "            distance, _ = pearsonr(unlabeled_norm, known_norm)\n",
    "            distances.append((command, 1-distance))\n",
    "        except Exception as e:\n",
    "            #print(f\"Failed at {command}, Error: {e}\")\n",
    "            continue\n",
    "\n",
    "    # Sort commands by their distance (ascending)\n",
    "    distances.sort(key=lambda x: x[1])\n",
    "    return distances"
   ]
  },
  {
   "cell_type": "code",
   "execution_count": 17,
   "id": "c931b83f-9f27-4a34-98e0-3fa199dd1fb9",
   "metadata": {},
   "outputs": [],
   "source": [
    "from scipy.spatial.distance import euclidean\n",
    "\n",
    "def find_best_match_euclidean(intercepted, command_dataset):\n",
    "    \"\"\"\n",
    "    Finds the best match for an intercepted sequence using Euclidean distance.\n",
    "    \"\"\"\n",
    "    # Normalise intercepted keystrokes\n",
    "    unlabeled_latencies = np.array([keystroke['timestamp'] for keystroke in intercepted])\n",
    "    unlabeled_norm = unlabeled_latencies / np.max(unlabeled_latencies)\n",
    "\n",
    "    distances = []\n",
    "    # Only consider commands that have a min_len >= len(intercepted)\n",
    "    candidates = eliminate_candidates(len(intercepted), command_dataset)\n",
    "    for command in candidates.keys():\n",
    "        try:\n",
    "            # Get mean keystroke latencies, normalized, for up to len(intercepted)\n",
    "            cmd_mean_latencies = get_mean_latencies(command, command_dataset[command])[:len(intercepted)]\n",
    "            known_norm = cmd_mean_latencies / np.max(cmd_mean_latencies)\n",
    "            distance = euclidean(unlabeled_norm, known_norm)\n",
    "            distances.append((command, distance))\n",
    "        except Exception as e:\n",
    "            #print(f\"Failed at {command}, Error: {e}\")\n",
    "            continue\n",
    "\n",
    "    # Sort commands by their distance (ascending)\n",
    "    distances.sort(key=lambda x: x[1])\n",
    "    return distances"
   ]
  },
  {
   "cell_type": "code",
   "execution_count": 18,
   "id": "182e5736-13c5-451e-b4ee-d72121f17e85",
   "metadata": {},
   "outputs": [],
   "source": [
    "def is_it_sudo(intercepted, command_dataset) -> bool:\n",
    "    \"\"\"\n",
    "    Determines whether the first five keystrokes are similar to \"sudo \".\n",
    "\n",
    "    Assumes len(intercepted) >= 5.\n",
    "    \"\"\"\n",
    "    return find_best_match(intercepted[:6], command_dataset)[0][0] == 'sudo'"
   ]
  },
  {
   "cell_type": "code",
   "execution_count": 19,
   "id": "f0feff64-801a-4fe0-9c3d-57c96cc09056",
   "metadata": {},
   "outputs": [],
   "source": [
    "def extract_tsf_features(latency_sequences):\n",
    "    \"\"\"\n",
    "    Extracts time series features from latency sequences using tsfresh.\n",
    "    \"\"\"\n",
    "    extracted_features = extract_features(latency_sequences, column_id=\"id\", column_sort=\"time\", \n",
    "                                          default_fc_parameters=ComprehensiveFCParameters(), impute_function=impute)\n",
    "    return extracted_features"
   ]
  },
  {
   "cell_type": "code",
   "execution_count": 20,
   "id": "1219614e-2096-4ddf-bedf-6fa4e0a33faa",
   "metadata": {},
   "outputs": [],
   "source": [
    "def create_feature_matrix(commands):\n",
    "    \"\"\"\n",
    "    Constructs a feature matrix for all commands' latency sequences.\n",
    "    \"\"\"\n",
    "    all_features = []\n",
    "    labels = []\n",
    "    command_ids = {cmd: idx for idx, cmd in enumerate(commands.keys())}\n",
    "    \n",
    "    for command, sequences in commands.items():\n",
    "        print(f\"{command=}\")\n",
    "        for sequence in sequences:\n",
    "            data = {'id': [], 'time': [], 'value': []}\n",
    "            for time_point, entry in enumerate(sequence):\n",
    "                data['id'].append(command_ids[command])\n",
    "                data['time'].append(time_point)\n",
    "                data['value'].append(entry['latency'])\n",
    "            df = pd.DataFrame(data)\n",
    "            features = extract_tsf_features(df)\n",
    "            all_features.append(features)\n",
    "            labels.append(command_ids[command])\n",
    "    \n",
    "    return pd.concat(all_features), np.array(labels)"
   ]
  },
  {
   "cell_type": "code",
   "execution_count": 21,
   "id": "4acd2dea-f7f6-4f15-8678-e4f3e50e1b8c",
   "metadata": {},
   "outputs": [],
   "source": [
    "def train_tsf(X, y):\n",
    "    \"\"\"\n",
    "    Trains a Time Series Forest model.\n",
    "    \"\"\"\n",
    "    model = RandomForestClassifier(n_estimators=100, random_state=42)\n",
    "    model.fit(X, y)\n",
    "    return model"
   ]
  },
  {
   "cell_type": "code",
   "execution_count": 22,
   "id": "ab8f3ee4-6e0f-4da3-803a-792668076119",
   "metadata": {},
   "outputs": [],
   "source": [
    "def predict_command(model, new_sequence):\n",
    "    \"\"\"\n",
    "    Predicts the command type from a new latency sequence using the trained TSF model.\n",
    "    \"\"\"\n",
    "    new_features = extract_tsf_features(new_sequence)  # Assuming new_sequence is prepared in a similar way as training data\n",
    "    prediction = model.predict(new_features)\n",
    "    return prediction"
   ]
  },
  {
   "cell_type": "code",
   "execution_count": 23,
   "id": "409c52c9-1774-4eda-ae58-eebfbe66ae53",
   "metadata": {},
   "outputs": [],
   "source": [
    "# Load the saved dataframes for TSF- participant dataset (refer to analysis.ipynb for calculations)\n",
    "X_train_participants = pd.read_csv(\"./xtrain_participants.csv\").drop('Unnamed: 0', axis=1)\n",
    "y_train_participants = np.array([ 0, 0, 0, 0, 1, 1, 1, 1, 1, 1, 1, 1, 1, 1, 1, 1, 1, 1, 1, 1, 1, 1, 1, 1, 1, 1, 1, 1, 1, 1, 1, 1, 1, 1, 1, 1, 1, 1, 1, 2, 2, 2, 2, 2, 3, 3, 3, 3, 3, 4, 4, 4, 5, 5, 5, 5, 5, 5, 6, 6, 6, 6, 6, 6, 6, 6, 6, 6, 7, 7, 7, 7, 7, 7, 7, 7, 7, 7, 7, 7, 7, 7, 8, 8, 8, 8, 8, 8, 8, 8, 8, 8, 9, 9, 9, 9, 9, 9, 9, 9, 9, 9, 10, 10, 10, 10, 10, 11, 11, 11, 11, 11, 11, 11, 11, 12, 12, 12, 12, 12, 13, 13, 13, 13, 13, 14, 14, 14, 14, 14, 14, 14, 14, 14, 14, 14, 14, 15, 15, 15, 15, 15, 15, 15, 15, 15, 16, 16, 16, 16, 16, 16, 16, 16, 16, 16, 16, 16, 17, 17, 17, 17, 17, 17, 17, 17, 17, 17, 17, 18, 18, 18, 18, 18, 18, 18, 18, 18, 18, 18, 18, 18, 18, 18, 18, 18, 18, 18, 18, 18, 18, 18, 18, 18, 18, 18, 18, 18, 18, 18, 18, 18, 18, 18, 18, 18, 18, 19, 19, 19, 19, 19, 19, 19, 19, 20, 20, 20, 20, 20, 20, 20, 20, 20, 20, 20, 21, 21, 21, 21, 21, 21, 21, 21, 21, 21, 21, 21, 21, 21, 22, 22, 22, 22, 22, 22, 22, 22, 22, 23, 23, 23, 23, 23, 23, 23, 23, 24, 24, 24, 24, 24, 24, 24, 24, 25, 25, 25, 25, 25, 25, 26, 26, 26, 26, 26, 26, 26, 26, 27, 27, 27, 27, 27, 27, 27, 27, 27, 28, 28, 28, 28, 28, 28, 28, 28, 28, 29, 29, 29, 29, 29, 29, 29, 29, 29, 29, 29, 29, 29, 29, 29, 30, 30, 30, 30, 30, 30, 30, 30, 30, 30, 30, 30, 30, 30, 30, 31, 31, 31, 31, 31, 31, 31, 31, 31, 31, 31, 31, 31, 31, 31, 31, 31, 31, 32, 32, 32, 32, 32, 32, 32, 32, 32, 32, 32, 32, 32, 33, 33, 33, 33, 33, 33, 33, 33, 33, 33, 33, 33, 33, 33, 34, 34, 34, 34, 35, 35, 35, 35, 35, 35, 36, 36, 36, 36, 36, 36, 37, 37, 37, 38, 38, 38, 38, 38, 38, 38, 39, 39, 39, 39, 40, 40, 40, 40, 40, 40, 40, 40, 40, 41, 41, 41, 41, 41, 41, 41, 41, 41, 41, 42, 42, 42, 42, 42, 42, 42, 43, 43, 43, 43, 43, 43, 43, 43, 43, 43, 43, 43, 43, 43, 43, 43, 43, 43, 43, 43, 43, 44, 44, 44, 44, 44, 44, 44, 44, 44, 44, 44, 45, 45, 45, 45, 45, 45, 45, 45, 45, 45, 46, 46, 46, 46, 47, 47, 47, 47, 47, 47, 47, 47, 47, 47, 47, 47, 48, 48, 48, 48, 48, 48, 48, 48, 48, 48, 48, 48, 48, 48, 48, 49, 49, 49, 50, 50, 50, 50, 50, 51, 51, 51, 51, 51, 52, 52, 52, 52, 52, 53, 53, 53, 53, 53, 53, 53, 54, 54, 54, 55, 55, 55, 55, 55, 55, 56, 56, 56, 56, 56, 56, 56, 56, 56, 56, 57, 57, 57, 57, 57, 57, 57, 57, 58, 58, 58, 59, 59, 59, 59, 59, 59, 60, 60, 60, 60, 60, 60, 61, 61, 61, 61, 61, 61, 61, 61, 62, 62, 62, 62, 63, 63, 63, 63, 63, 63, 63, 64, 64, 64, 64, 64, 65, 65, 65, 65, 65, 65, 65, 66, 66, 66, 66, 66, 66, 66, 66, 67, 67, 67, 67, 67, 67, 67, 67, 68, 68, 68, 68, 68, 68, 68, 69, 69, 70, 70, 70, 70, 71, 71, 72, 72, 72, 72, 73, 73, 73, 73, 73, 73, 73, 74, 74, 75, 75, 75, 75, 75, 75, 76, 76, 76, 76, 76, 77, 77, 77, 77, 77, 78, 78, 78, 78, 78, 78, 79, 79, 79, 79, 80, 81, 81, 81, 82, 82, 82, 83, 83, 83])"
   ]
  },
  {
   "cell_type": "code",
   "execution_count": 24,
   "id": "4a9d61b7-eecb-41c3-a0e5-b7c372a13cd4",
   "metadata": {},
   "outputs": [],
   "source": [
    "# Load the saved dataframes for TSF- tailored dataset (refer to analysis.ipynb for calculations)\n",
    "X_train = pd.read_csv(\"./xtrain.csv\").drop('Unnamed: 0', axis=1)\n",
    "y_train = np.array([ 0, 0, 0, 0, 0, 0, 0, 0, 0, 0, 0, 0, 0, 0, 0, 0, 0, 0, 1, 1, 1, 1, 1, 1, 1, 1, 1, 1, 1, 1, 1, 1, 1, 1, 1, 1, 1, 1, 1, 1, 1, 1, 1, 1, 1, 1, 1, 1, 1, 1, 1, 1, 1, 1, 1, 1, 1, 1, 1, 1, 1, 1, 1, 1, 1, 1, 1, 1, 1, 1, 1, 1, 1, 1, 1, 1, 2, 2, 2, 2, 2, 2, 2, 2, 2, 2, 2, 2, 2, 2, 2, 2, 2, 2, 2, 2, 3, 3, 3, 3, 3, 3, 3, 3, 3, 3, 3, 3, 3, 3, 3, 3, 3, 3, 4, 4, 4, 4, 4, 4, 4, 4, 4, 4, 4, 4, 4, 4, 4, 4, 4, 4, 4, 4, 5, 5, 5, 5, 5, 5, 5, 5, 5, 5, 5, 5, 5, 5, 5, 5, 5, 5, 5, 5, 5, 5, 6, 6, 6, 6, 6, 6, 6, 6, 6, 6, 6, 6, 6, 6, 6, 6, 6, 6, 6, 7, 7, 7, 7, 7, 7, 7, 7, 7, 7, 7, 8, 8, 8, 8, 8, 8, 8, 8, 8, 8, 8, 8, 8, 8, 8, 8, 8, 9, 9, 9, 9, 9, 9, 9, 9, 9, 9, 9, 9, 9, 9, 9, 9, 9, 9, 9, 9, 9, 9, 9, 9, 9, 9, 9, 9, 9, 9, 9, 9, 9, 9, 9, 9, 9, 9, 9, 9, 9, 9, 9, 9, 9, 9, 9, 9, 9, 9, 9, 9, 9, 9, 9, 9, 9, 9, 9, 9, 9, 9, 9, 9, 9, 9, 9, 9, 9, 9, 9, 9, 9, 9, 9, 9, 9, 9, 9, 9, 10, 10, 10, 10, 10, 10, 10, 10, 10, 10, 10, 10, 10, 10, 10, 10, 10, 10, 10, 10, 10, 11, 11, 11, 11, 11, 11, 11, 11, 11, 11, 11, 11, 11, 11, 11, 11, 11, 12, 12, 12, 12, 12, 12, 12, 12, 12, 12, 12, 12, 12, 12, 12, 12, 12, 13, 13, 13, 13, 13, 13, 13, 13, 13, 13, 13, 13, 13, 13, 13, 13, 13, 13, 13, 13, 14, 14, 14, 14, 14, 14, 14, 14, 14, 14, 15, 15, 15, 15, 15, 15, 15, 15, 15, 15, 15, 15, 15, 15, 15, 15, 15, 15, 15, 15, 15, 15, 15, 16, 16, 16, 16, 16, 16, 16, 16, 16, 16, 16, 16, 16, 16, 16, 16, 16, 16, 16, 16, 17, 17, 17, 17, 17, 17, 17, 17, 17, 17, 17, 17, 17, 17, 17, 17, 18, 18, 18, 18, 18, 18, 18, 18, 18, 18, 18, 18, 18, 18, 19, 19, 19, 19, 19, 19, 19, 19, 19, 19, 19, 19, 19, 19, 19, 19, 20, 20, 20, 20, 20, 20, 20, 20, 20, 20, 20, 20, 20, 21, 21, 21, 21, 21, 21, 21, 21, 21, 21, 21, 21, 21, 21, 21, 21, 22, 22, 22, 22, 22, 22, 22, 23, 23, 23, 23, 23, 23, 23, 23, 23, 23, 23, 23, 23, 23, 23, 24, 24, 24, 24, 24, 24, 24, 24, 24, 24, 24, 25, 25, 25, 25, 25, 25, 25, 25, 25, 25, 25, 25, 25, 25, 25, 25, 25, 25, 25, 25, 26, 26, 26, 26, 26, 26, 26, 26, 26, 26, 26, 26, 26, 26, 26, 26, 26, 26, 27, 27, 27, 27, 27, 27, 27, 27, 27, 27, 27, 27, 27, 27, 27, 27, 27, 27, 27, 27, 28, 28, 28, 28, 28, 28, 28, 28, 29, 29, 29, 29, 29, 29, 29, 29, 29, 29, 29, 29, 29, 29, 29, 29, 29, 29, 29, 29, 30, 30, 30, 30, 30, 30, 30, 30, 30, 30, 30, 30, 30, 30, 30, 30, 30, 31, 31, 31, 31, 31, 31, 31, 31, 32, 32, 32, 32, 32, 32, 32, 32, 32, 32, 32, 32])"
   ]
  },
  {
   "cell_type": "code",
   "execution_count": 326,
   "id": "b22f2a8c-95b9-4725-b910-f5e7b9efb025",
   "metadata": {},
   "outputs": [],
   "source": [
    "# Load one\n",
    "cmds = load_dataset(datadir=\"./personalised_data/\", combine_tokens=True, tokens=set([\"sudo\",\"systemctl\"]), backspaces=False)\n",
    "#cmds = load_dataset(datadir=\"./data/\", combine_tokens=True, tokens=set([\"sudo\",\"systemctl\", \"install\", \"service\", \"pacman\"]), backspaces=False)"
   ]
  },
  {
   "cell_type": "code",
   "execution_count": 277,
   "id": "a070a6e7-4e04-4b3e-be96-6b1294cc43d9",
   "metadata": {},
   "outputs": [],
   "source": [
    "# Load both\n",
    "cmds = load_dataset(datadir=\"./personalised_data/\", combine_tokens=True, tokens=set([\"sudo\",\"systemctl\"]), backspaces=False)\n",
    "cmds2 = load_dataset(datadir=\"./data/\", combine_tokens=True, tokens=set([\"sudo\",\"systemctl\"]), backspaces=False)\n",
    "\n",
    "for key in cmds2.keys():\n",
    "    if key in cmds:\n",
    "        cmds[key].extend(cmds2[key])\n",
    "    else:\n",
    "        cmds[key] = cmds2[key]"
   ]
  },
  {
   "cell_type": "code",
   "execution_count": 346,
   "id": "872c55a7-1cf7-4bc2-afc8-17c95bb83b0d",
   "metadata": {},
   "outputs": [],
   "source": [
    "ssh = load_ssh_session(\"./sshniff_output/capture_1_sessions.json\")"
   ]
  },
  {
   "cell_type": "code",
   "execution_count": 347,
   "id": "49dde32c",
   "metadata": {},
   "outputs": [
    {
     "data": {
      "text/plain": [
       "[7, 9, 16, 20, 12, 29, 5]"
      ]
     },
     "execution_count": 347,
     "metadata": {},
     "output_type": "execute_result"
    }
   ],
   "source": [
    "[len(i) for i in ssh]"
   ]
  },
  {
   "cell_type": "code",
   "execution_count": 333,
   "id": "0db59104-e928-4686-a45b-96fc62f695c8",
   "metadata": {},
   "outputs": [
    {
     "data": {
      "image/png": "[encoded data removed]",
      "text/plain": [
       "<Figure size 1200x800 with 1 Axes>"
      ]
     },
     "metadata": {},
     "output_type": "display_data"
    }
   ],
   "source": [
    "command = 'ss -tuln'\n",
    "plot_ssh_vs_command(ssh[1], get_mean_latencies(command, cmds[command]), command)"
   ]
  },
  {
   "cell_type": "code",
   "execution_count": 285,
   "id": "67d1eb90-8150-4434-a5b0-301f030654ed",
   "metadata": {},
   "outputs": [],
   "source": [
    "# Remove RETURN from intercept- seems better for matching to commands\n",
    "# Probably because of the \"pause\", double-checking a command before running it.\n",
    "for sequence in ssh:\n",
    "    sequence.pop()\n",
    "try:\n",
    "    ssh.remove([])\n",
    "except:\n",
    "    pass"
   ]
  },
  {
   "cell_type": "code",
   "execution_count": 348,
   "id": "80b3c383-798f-4867-be4b-347be7e6d9c1",
   "metadata": {},
   "outputs": [],
   "source": [
    "#model = train_tsf(X_train_participants, y_train_participants)\n",
    "model = train_tsf(X_train, y_train)"
   ]
  },
  {
   "cell_type": "code",
   "execution_count": 349,
   "id": "fc659f70-e9bc-4a6a-950a-a97e0c42c604",
   "metadata": {},
   "outputs": [],
   "source": [
    "intercepted_latencies = [[k['timestamp'] for k in ssh[i]] for i in range(len(ssh))]\n",
    "observed_sequences = [{'id': [0] * len(intercept), 'time': list(range(len(intercept))), 'value': intercept} for intercept in intercepted_latencies]"
   ]
  },
  {
   "cell_type": "code",
   "execution_count": 350,
   "id": "15f3ce22-6635-4d89-bf57-6a94f1a4b660",
   "metadata": {},
   "outputs": [
    {
     "name": "stderr",
     "output_type": "stream",
     "text": [
      "Feature Extraction: 100%|██████████████████████████████████████████████████| 1/1 [00:00<00:00, 18.66it/s]\n",
      "Feature Extraction: 100%|██████████████████████████████████████████████████| 1/1 [00:00<00:00, 19.31it/s]\n",
      "Feature Extraction: 100%|██████████████████████████████████████████████████| 1/1 [00:00<00:00, 17.27it/s]\n",
      "Feature Extraction: 100%|██████████████████████████████████████████████████| 1/1 [00:00<00:00, 17.78it/s]\n",
      "Feature Extraction: 100%|██████████████████████████████████████████████████| 1/1 [00:00<00:00, 17.65it/s]\n",
      "Feature Extraction: 100%|██████████████████████████████████████████████████| 1/1 [00:00<00:00, 15.75it/s]\n",
      "Feature Extraction: 100%|██████████████████████████████████████████████████| 1/1 [00:00<00:00, 18.05it/s]\n"
     ]
    },
    {
     "name": "stdout",
     "output_type": "stream",
     "text": [
      "['touch ', 'whoami', 'ss -tuln', 'sudo apt update', 'cat /etc/resolv.conf', 'cat /etc/passwd', 'systemctl']\n"
     ]
    }
   ],
   "source": [
    "# 'Best' prediction for each sequence\n",
    "predictions = []\n",
    "for i, sequence in enumerate(observed_sequences):\n",
    "    prediction = predict_command(model, pd.DataFrame(sequence))\n",
    "    try:\n",
    "        predictions.append(list(cmds.keys())[prediction[0]])\n",
    "    except:\n",
    "        print(f\"no prediction for sequence {i}\")\n",
    "print(predictions)"
   ]
  },
  {
   "cell_type": "code",
   "execution_count": 351,
   "id": "037c4291-e45f-4ccc-8313-06e11b157c5b",
   "metadata": {
    "scrolled": true
   },
   "outputs": [
    {
     "name": "stdout",
     "output_type": "stream",
     "text": [
      "New Sequence\n"
     ]
    },
    {
     "name": "stderr",
     "output_type": "stream",
     "text": [
      "Feature Extraction: 100%|██████████████████████████████████████████████████| 1/1 [00:00<00:00, 16.85it/s]"
     ]
    },
    {
     "name": "stdout",
     "output_type": "stream",
     "text": [
      "Prediction: touch  ; 0.22\n",
      "Prediction: tail /var/log/syslog ; 0.12\n",
      "Prediction: sudo ; 0.1\n",
      "Prediction: iptables -L ; 0.09\n",
      "Prediction: uptime ; 0.08\n",
      "Prediction: wget https:// ; 0.07\n",
      "Prediction: systemctl status  ; 0.05\n",
      "Prediction: ifconfig ; 0.04\n",
      "Prediction: exit ; 0.04\n",
      "Prediction: whoami ; 0.04\n",
      "New Sequence\n"
     ]
    },
    {
     "name": "stderr",
     "output_type": "stream",
     "text": [
      "\n",
      "Feature Extraction: 100%|██████████████████████████████████████████████████| 1/1 [00:00<00:00, 18.04it/s]\n"
     ]
    },
    {
     "name": "stdout",
     "output_type": "stream",
     "text": [
      "Prediction: whoami ; 0.23\n",
      "Prediction: wget https:// ; 0.19\n",
      "Prediction: iptables -L ; 0.15\n",
      "Prediction: ifconfig ; 0.08\n",
      "Prediction: cat /etc/hosts ; 0.06\n",
      "Prediction: systemctl stop  ; 0.05\n",
      "Prediction: systemctl start  ; 0.04\n",
      "Prediction: systemctl restart  ; 0.03\n",
      "Prediction: ping -c 1 9.9.9.9 ; 0.02\n",
      "Prediction: mv * ../ ; 0.02\n",
      "New Sequence\n"
     ]
    },
    {
     "name": "stderr",
     "output_type": "stream",
     "text": [
      "Feature Extraction: 100%|██████████████████████████████████████████████████| 1/1 [00:00<00:00, 17.65it/s]\n"
     ]
    },
    {
     "name": "stdout",
     "output_type": "stream",
     "text": [
      "Prediction: ss -tuln ; 0.13\n",
      "Prediction: sudo apt upgrade  ; 0.12\n",
      "Prediction: curl http:// ; 0.1\n",
      "Prediction: tar --help ; 0.08\n",
      "Prediction: systemctl stop  ; 0.07\n",
      "Prediction: vim  ; 0.07\n",
      "Prediction: systemctl restart  ; 0.06\n",
      "Prediction: nano  ; 0.05\n",
      "Prediction: iptables -S ; 0.03\n",
      "Prediction: systemctl start  ; 0.03\n",
      "New Sequence\n"
     ]
    },
    {
     "name": "stderr",
     "output_type": "stream",
     "text": [
      "Feature Extraction: 100%|██████████████████████████████████████████████████| 1/1 [00:00<00:00, 17.03it/s]\n"
     ]
    },
    {
     "name": "stdout",
     "output_type": "stream",
     "text": [
      "Prediction: sudo apt update ; 0.17\n",
      "Prediction: iptables -S ; 0.11\n",
      "Prediction: df -hT / ; 0.1\n",
      "Prediction: vim  ; 0.09\n",
      "Prediction: cat /etc/passwd ; 0.09\n",
      "Prediction: systemctl restart  ; 0.06\n",
      "Prediction: systemctl stop  ; 0.05\n",
      "Prediction: mv * ../ ; 0.05\n",
      "Prediction: sudo su ; 0.05\n",
      "Prediction: systemctl start  ; 0.03\n",
      "New Sequence\n"
     ]
    },
    {
     "name": "stderr",
     "output_type": "stream",
     "text": [
      "Feature Extraction: 100%|██████████████████████████████████████████████████| 1/1 [00:00<00:00, 16.40it/s]\n"
     ]
    },
    {
     "name": "stdout",
     "output_type": "stream",
     "text": [
      "Prediction: cat /etc/resolv.conf ; 0.26\n",
      "Prediction: systemctl start  ; 0.23\n",
      "Prediction: mv * ../ ; 0.14\n",
      "Prediction: tar --help ; 0.09\n",
      "Prediction: systemctl restart  ; 0.07\n",
      "Prediction: systemctl stop  ; 0.05\n",
      "Prediction: ping -c 1 9.9.9.9 ; 0.04\n",
      "Prediction: nano  ; 0.02\n",
      "Prediction: rm -rf /tmp/* ; 0.02\n",
      "Prediction: systemctl status  ; 0.01\n",
      "New Sequence\n"
     ]
    },
    {
     "name": "stderr",
     "output_type": "stream",
     "text": [
      "Feature Extraction: 100%|██████████████████████████████████████████████████| 1/1 [00:00<00:00, 16.82it/s]\n"
     ]
    },
    {
     "name": "stdout",
     "output_type": "stream",
     "text": [
      "Prediction: cat /etc/passwd ; 0.27\n",
      "Prediction: df -hT / ; 0.25\n",
      "Prediction: sudo apt update ; 0.09\n",
      "Prediction: systemctl stop  ; 0.07\n",
      "Prediction: vim  ; 0.05\n",
      "Prediction: mv * ../ ; 0.04\n",
      "Prediction: sudo su ; 0.03\n",
      "Prediction: systemctl start  ; 0.03\n",
      "Prediction: ifconfig ; 0.02\n",
      "Prediction: tar --help ; 0.02\n",
      "New Sequence\n"
     ]
    },
    {
     "name": "stderr",
     "output_type": "stream",
     "text": [
      "Feature Extraction: 100%|██████████████████████████████████████████████████| 1/1 [00:00<00:00, 17.16it/s]\n"
     ]
    },
    {
     "name": "stdout",
     "output_type": "stream",
     "text": [
      "Prediction: systemctl ; 0.97\n",
      "Prediction: sudo ; 0.03\n",
      "Prediction: tail /var/log/syslog ; 0.0\n",
      "Prediction: cat /etc/hosts ; 0.0\n",
      "Prediction: systemctl restart  ; 0.0\n",
      "Prediction: mv * ../ ; 0.0\n",
      "Prediction: iptables -S ; 0.0\n",
      "Prediction: uptime ; 0.0\n",
      "Prediction: id ; 0.0\n",
      "Prediction: exit ; 0.0\n"
     ]
    }
   ],
   "source": [
    "for sequence in observed_sequences:\n",
    "    print(\"New Sequence\")\n",
    "    probs = model.predict_proba(extract_tsf_features(pd.DataFrame(sequence)))\n",
    "    predictions = model.classes_[np.argsort(probs)[:, ::-1]]\n",
    "    # Top 10 predictions (if any)\n",
    "    for pred in predictions[0][:10]:\n",
    "        command = list(cmds.keys())[pred]\n",
    "        print(f\"Prediction: {command} ; {probs[0][pred]}\")"
   ]
  },
  {
   "cell_type": "code",
   "execution_count": 286,
   "id": "3710d886-9786-4ff0-915d-8b37b7e36c5f",
   "metadata": {},
   "outputs": [
    {
     "name": "stdout",
     "output_type": "stream",
     "text": [
      "================================================================\n",
      "DTW:  ('kill pid', 0.15559052203213095)\n",
      "Euclidean:  ('ping -c 1 9.9.9.9', 0.17700616101837818)\n",
      "Pearson:  ('kill pid', 0.019241333277919992)\n",
      "================================================================\n",
      "DTW:  ('umount /mnt', 0.15117621948219007)\n",
      "Euclidean:  ('ufw enable', 0.22860390854454485)\n",
      "Pearson:  ('uniq file', 0.019497600141901383)\n",
      "================================================================\n",
      "DTW:  ('yum install package', 0.32365784531008357)\n",
      "Euclidean:  ('ifconfig', 0.364414145612528)\n",
      "Pearson:  ('ifconfig', 0.07990559092973615)\n",
      "================================================================\n",
      "DTW:  ('uptime', 0.25316453099613784)\n",
      "Euclidean:  ('apt-get update', 0.3930556127964601)\n",
      "Pearson:  ('apt-get update', 0.10424632773517795)\n",
      "================================================================\n",
      "DTW:  ('free -m', 0.03758964305802078)\n",
      "Euclidean:  ('free -m', 0.03758964305802078)\n",
      "Pearson:  ('free -m', 0.000679374460483495)\n"
     ]
    }
   ],
   "source": [
    "for sequence in ssh:\n",
    "    print(\"=\" * 64)\n",
    "    print(\"DTW: \", find_best_match(sequence, cmds)[0])\n",
    "    try:\n",
    "        print(\"Euclidean: \", find_best_match_euclidean(sequence, cmds)[0])\n",
    "        print(\"Pearson: \", find_best_match_pearson(sequence, cmds)[0])\n",
    "    except:\n",
    "        print(f\"Failed at len {len(sequence)}\")"
   ]
  },
  {
   "cell_type": "code",
   "execution_count": 287,
   "id": "a9748d46",
   "metadata": {},
   "outputs": [
    {
     "data": {
      "text/plain": [
       "[('kill pid', 0.15559052203213095),\n",
       " ('iostat', 0.1706518714554333),\n",
       " ('ping -c 1 9.9.9.9', 0.1770061610183782),\n",
       " ('pip3 install package', 0.23607962003173696),\n",
       " ('uptime', 0.27445665791075047),\n",
       " ('umount /mnt', 0.27981154567021943),\n",
       " ('cat file', 0.2867351947941002),\n",
       " ('-al', 0.30142981508755007),\n",
       " ('mkdir ../log', 0.318527935606389),\n",
       " ('free -m', 0.3351015615891984)]"
      ]
     },
     "execution_count": 287,
     "metadata": {},
     "output_type": "execute_result"
    }
   ],
   "source": [
    "find_best_match(ssh[0], cmds)[:10]"
   ]
  },
  {
   "cell_type": "code",
   "execution_count": 288,
   "id": "1acffdb8-c00f-4d90-a22c-925b4e0ac4b7",
   "metadata": {},
   "outputs": [
    {
     "data": {
      "text/plain": [
       "[('ping -c 1 9.9.9.9', 0.17700616101837818),\n",
       " ('iostat', 0.1837743590424671),\n",
       " ('kill pid', 0.22559167076711686),\n",
       " ('uptime', 0.27445665791075047),\n",
       " ('pip3 install package', 0.3021855877122606),\n",
       " ('mkdir ../log', 0.3380996742005876),\n",
       " ('cat file', 0.39399170965879726),\n",
       " ('--file', 0.4063655955921348),\n",
       " ('umount /mnt', 0.40758853366818776),\n",
       " ('wget https://', 0.42150694562214136)]"
      ]
     },
     "execution_count": 288,
     "metadata": {},
     "output_type": "execute_result"
    }
   ],
   "source": [
    "find_best_match_euclidean(ssh[0], cmds)[:10]"
   ]
  },
  {
   "cell_type": "code",
   "execution_count": 289,
   "id": "31a5a378-9cd5-474a-b71b-d4aba2d37cb4",
   "metadata": {},
   "outputs": [
    {
     "data": {
      "text/plain": [
       "[('kill pid', 0.019241333277919992),\n",
       " ('ping -c 1 9.9.9.9', 0.02002840604207301),\n",
       " ('iostat', 0.03094059286042883),\n",
       " ('pip3 install package', 0.047507689003423836),\n",
       " ('umount /mnt', 0.053331736612021174),\n",
       " ('uptime', 0.06711841967776144),\n",
       " ('mkdir ../log', 0.07475722768695403),\n",
       " ('mount /dev/sda2 /mnt', 0.10500966391964905),\n",
       " ('ss -tuln', 0.11508287287946961),\n",
       " ('free -m', 0.13069997188505245)]"
      ]
     },
     "execution_count": 289,
     "metadata": {},
     "output_type": "execute_result"
    }
   ],
   "source": [
    "find_best_match_pearson(ssh[0], cmds)[:10]"
   ]
  },
  {
   "cell_type": "code",
   "execution_count": 49,
   "id": "43b956b4-84dc-47c7-9b22-48ac3990470d",
   "metadata": {},
   "outputs": [
    {
     "data": {
      "text/plain": [
       "[False,\n",
       " False,\n",
       " False,\n",
       " False,\n",
       " False,\n",
       " False,\n",
       " False,\n",
       " False,\n",
       " False,\n",
       " False,\n",
       " False,\n",
       " False,\n",
       " False,\n",
       " False,\n",
       " False,\n",
       " True,\n",
       " False,\n",
       " False,\n",
       " False,\n",
       " False,\n",
       " False,\n",
       " False,\n",
       " False,\n",
       " False,\n",
       " False,\n",
       " False]"
      ]
     },
     "execution_count": 49,
     "metadata": {},
     "output_type": "execute_result"
    }
   ],
   "source": [
    "[is_it_sudo(ssh[i], cmds) for i in range(len(ssh))] "
   ]
  }
 ],
 "metadata": {
  "kernelspec": {
   "display_name": "kanalysis",
   "language": "python",
   "name": "kanalysis"
  },
  "language_info": {
   "codemirror_mode": {
    "name": "ipython",
    "version": 3
   },
   "file_extension": ".py",
   "mimetype": "text/x-python",
   "name": "python",
   "nbconvert_exporter": "python",
   "pygments_lexer": "ipython3",
   "version": "3.9.13"
  }
 },
 "nbformat": 4,
 "nbformat_minor": 5
}

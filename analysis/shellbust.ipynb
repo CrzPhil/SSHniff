{
 "cells": [
  {
   "cell_type": "code",
   "execution_count": 146,
   "id": "e4954589-793b-4940-bec7-baf777cc08ba",
   "metadata": {},
   "outputs": [],
   "source": [
    "import json\n",
    "import matplotlib.pyplot as plt\n",
    "import os\n",
    "from collections import defaultdict, OrderedDict\n",
    "import random\n",
    "from scipy.interpolate import make_interp_spline\n",
    "from dtaidistance import dtw\n",
    "import numpy as np\n",
    "import sys\n",
    "from sklearn.ensemble import RandomForestClassifier\n",
    "from tsfresh.feature_extraction import ComprehensiveFCParameters, extract_features\n",
    "from tsfresh.utilities.dataframe_functions import impute\n",
    "import pandas as pd\n",
    "from sklearn.ensemble import RandomForestClassifier"
   ]
  },
  {
   "cell_type": "code",
   "execution_count": 147,
   "id": "2355f06b-6359-49e9-8d7d-5e316ca2d048",
   "metadata": {},
   "outputs": [],
   "source": [
    "def load_dataset(datadir, combine_tokens=False, tokens=None, backspaces=False):\n",
    "    \"\"\"\n",
    "    Parent function for loading the dataset.\n",
    "\n",
    "    datadir -> Parent directory of .json files with the keystroke data.\n",
    "    combine_tokens (bool) -> Should common tokens be extracted into a new keyword?\n",
    "    tokens (set) -> Set of tokens to extract into keywords.\n",
    "    backspaces (bool) -> If True, backspaces will be kept- otherwise, feed to handle_backspaces (default)\n",
    "    \"\"\"\n",
    "    data = {'sessions': []}\n",
    "\n",
    "    # Load JSON files\n",
    "    files = [fname for fname in os.listdir(datadir) if fname.endswith('.json')]\n",
    "    \n",
    "    for file in files:\n",
    "        with open(f\"{datadir}{file}\", \"r\") as f:\n",
    "            js = json.load(f)\n",
    "            data['sessions'].extend(js['sessions'])\n",
    "\n",
    "    # Turn dict into command -> [[keystrokes]] map\n",
    "    commands = defaultdict(list)\n",
    "    for session in data['sessions']:\n",
    "        command = session['command']\n",
    "        keystrokes = session['keystrokes']\n",
    "        if len(keystrokes) == 0 or len(keystrokes) < len(command):\n",
    "               continue\n",
    "        commands[command].append(keystrokes)\n",
    "\n",
    "    # Zero the first latency for each session.\n",
    "    for cmd in commands.keys():\n",
    "        for session in commands[cmd]:\n",
    "            session[0]['latency'] = 0\n",
    "\n",
    "    # Requires backspaces to be handled beforehand\n",
    "    if combine_tokens and tokens:\n",
    "        commands = handle_backspaces(commands)\n",
    "        commands = combine_common_tokens(commands, tokens)\n",
    "    elif not backspaces:\n",
    "        commands = handle_backspaces(commands)\n",
    "\n",
    "    return commands"
   ]
  },
  {
   "cell_type": "code",
   "execution_count": 148,
   "id": "783d99fb-f121-4cd5-aabf-f233060d51d3",
   "metadata": {},
   "outputs": [],
   "source": [
    "def combine_common_tokens(dataset, common_tokens: set):\n",
    "    \"\"\"\n",
    "    Certain keywords are reused in the dataset. We can combine them for increased coverage.\n",
    "    i.e. sudo, install, apt, service, etc.\n",
    "    \n",
    "    # common_tokens = set([\"sudo\", \"install\", \"service\", \"pacman\", \"systemctl\"])\n",
    "    \"\"\"\n",
    "    aggregated_data = defaultdict(list)\n",
    "\n",
    "    for command, sessions in dataset.items():\n",
    "        splices = command.split()\n",
    "        indices = [0]\n",
    "        \n",
    "        # Accumulate indices positions\n",
    "        for i in range(1, len(splices)):\n",
    "            indices.append(indices[-1] + len(splices[i-1]) + 1)  # Account for spaces\n",
    "\n",
    "        for i, word in enumerate(splices):\n",
    "            if word in common_tokens:\n",
    "                start_idx = indices[i]\n",
    "                end_idx = start_idx + len(word)  # Not including the space after the word\n",
    "\n",
    "                # Extract the keystrokes corresponding to the word\n",
    "                keystrokes = [session[start_idx:end_idx] for session in sessions]\n",
    "                \n",
    "                # Optionally nullify the first latency in each session to normalize start time\n",
    "                for keystroke in keystrokes:\n",
    "                    if keystroke:  # Ensure it's not an empty list\n",
    "                        keystroke[0]['latency'] = 0\n",
    "\n",
    "                aggregated_data[word].extend(keystrokes)\n",
    "\n",
    "        # Add the full command data\n",
    "        aggregated_data[command].extend(sessions)\n",
    "\n",
    "    return aggregated_data"
   ]
  },
  {
   "cell_type": "code",
   "execution_count": 149,
   "id": "afd8ccbc-b231-436f-89fa-ddf558c9ae47",
   "metadata": {},
   "outputs": [],
   "source": [
    "def handle_backspaces(dataset):\n",
    "    \"\"\"\n",
    "    Account for backspaces in a session by removing the extra keystroke.\n",
    "\n",
    "    Latencies are not modified, so the latency between a \"false\" keystroke and the next \"correct\" keystroke prevails.\n",
    "    Remains to be seen what the most optimal solution for this is; this seemed to work \"okay\", however.\n",
    "    \"\"\"\n",
    "    for command in dataset.keys():\n",
    "        for sequence in dataset[command]:\n",
    "            i = 0\n",
    "            while i < len(sequence)-1:\n",
    "                if sequence[i]['key'] == 'Backspace':\n",
    "                    curr = sequence[i]\n",
    "                    prev = sequence[i-1]\n",
    "                    if i != 0:\n",
    "                        sequence.remove(prev)\n",
    "                        sequence.remove(curr)\n",
    "                        i -= 1\n",
    "                        continue\n",
    "                    else:\n",
    "                        sequence.remove(curr)\n",
    "                        sequence[i+1]['latency'] = 0\n",
    "                        continue\n",
    "                i += 1\n",
    "    return dataset"
   ]
  },
  {
   "cell_type": "code",
   "execution_count": 150,
   "id": "00013d81-4f4c-4eb5-8ba7-44c26c17360a",
   "metadata": {},
   "outputs": [],
   "source": [
    "def plot_command_latencies(keystroke_sequences, command):\n",
    "    \"\"\"\n",
    "    Plot all latencies of a given command together.\n",
    "\n",
    "    Latency (y) is in milliseconds.\n",
    "    X-axis shows the keystroke id.\n",
    "    \"\"\"\n",
    "    plt.figure(figsize=(12, 8))\n",
    "    \n",
    "    for sequence_idx, sequence in enumerate(keystroke_sequences):\n",
    "        normal_keys_x = []\n",
    "        normal_keys_y = []\n",
    "        backspace_keys_x = []\n",
    "        backspace_keys_y = []\n",
    "        \n",
    "        for keystroke_idx, keystroke in enumerate(sequence):\n",
    "            if keystroke['key'] == 'Backspace':\n",
    "                backspace_keys_x.append(keystroke_idx)\n",
    "                backspace_keys_y.append(keystroke['latency'])\n",
    "            normal_keys_x.append(keystroke_idx)\n",
    "            normal_keys_y.append(keystroke['latency'])\n",
    "\n",
    "        # Plot normal keystrokes\n",
    "        plt.plot(normal_keys_x, normal_keys_y, marker='o', linestyle='-', label=f'Session {sequence_idx + 1} Keystrokes', zorder=1)\n",
    "        # Plot Backspace keystrokes\n",
    "        plt.scatter(backspace_keys_x, backspace_keys_y, color='red', marker='x', label=f'Session {sequence_idx + 1} Backspaces', zorder=2)\n",
    "\n",
    "    plt.title(f'Latencies for Command: {command}')\n",
    "    plt.xlabel('Keystroke Sequence Number')\n",
    "    plt.ylabel('Latency (ms)')\n",
    "    plt.legend(bbox_to_anchor=(1.05, 1), loc='upper left')\n",
    "    plt.grid(True)\n",
    "    plt.show()"
   ]
  },
  {
   "cell_type": "code",
   "execution_count": 151,
   "id": "e10783af-c64c-4318-adcc-ecc8bbd43c79",
   "metadata": {},
   "outputs": [],
   "source": [
    "def plot_command_distribution(keystroke_sequences, command):\n",
    "    \"\"\"\n",
    "    Plot all latencies of a given command together, including the mean latency line.\n",
    "\n",
    "    Will render an extra phantom-keystroke (return) for keywords taken from tokenisation (combine_common_tokens).\n",
    "    \"\"\"\n",
    "    plt.figure(figsize=(12, 8))\n",
    "\n",
    "    total_latencies = [0] * (len(command) + 1)\n",
    "    count_per_position = [0] * (len(command) + 1)\n",
    "\n",
    "    # Plot each keystroke sequence\n",
    "    for sequence in keystroke_sequences:\n",
    "        normal_keys_x = []\n",
    "        normal_keys_y = []\n",
    "        \n",
    "        for idx, keystroke in enumerate(sequence):\n",
    "            normal_keys_x.append(idx)\n",
    "            normal_keys_y.append(keystroke['latency'])\n",
    "            if idx < len(total_latencies):\n",
    "                total_latencies[idx] += keystroke['latency']\n",
    "                count_per_position[idx] += 1\n",
    "\n",
    "        plt.plot(normal_keys_x, normal_keys_y, marker='o', linestyle='-', color='blue', alpha=0.3, zorder=1)\n",
    "    \n",
    "    # Calculate mean latencies\n",
    "    means = [total_latencies[i] / count_per_position[i] if count_per_position[i] else 0 for i in range(len(command)+1)]\n",
    "    x_new = np.linspace(0, len(command), 300)  # 300 represents number of points to make between T.min and T.max\n",
    "\n",
    "    # Smoothing the line\n",
    "    spl = make_interp_spline(range(len(command)+1), means, k=3)  # BSpline object\n",
    "    y_smooth = spl(x_new)\n",
    "\n",
    "    plt.plot(x_new, y_smooth, marker='', linestyle='-', label='Mean keystroke latency', color='red', linewidth=2, zorder=2)\n",
    "\n",
    "    plt.title(f'Mean latencies for command: \"{command}\"')\n",
    "    plt.xlabel('Keystroke Sequence Number')\n",
    "    plt.ylabel('Latency (ms)')\n",
    "    plt.legend(bbox_to_anchor=(1.05, 1), loc='upper left')\n",
    "    plt.grid(True)\n",
    "    plt.tight_layout()  # Adjust layout to make room for the legend\n",
    "    plt.show()"
   ]
  },
  {
   "cell_type": "code",
   "execution_count": 152,
   "id": "b2312696-3e64-484c-9fdf-21a36afc6070",
   "metadata": {},
   "outputs": [],
   "source": [
    "def load_ssh_session(path, stream=0):\n",
    "    \"\"\"\n",
    "    Load SSHniff session (JSON) output.\n",
    "\n",
    "    By default, assume single-session, which will have stream=\"0\".\n",
    "    \"\"\"\n",
    "    stream = str(stream)\n",
    "    \n",
    "    with open(path, \"r\") as f:\n",
    "        data = json.loads(f.read())\n",
    "    # SSHniff full output\n",
    "    if 'keystroke_data' in data[stream]:\n",
    "        return convert_latencies(data[stream]['keystroke_data'])\n",
    "    # Only keystroke data\n",
    "    return convert_latencies(data[stream])"
   ]
  },
  {
   "cell_type": "code",
   "execution_count": 153,
   "id": "fa88f566-aa8d-41c7-8d93-e8f2601d6b3b",
   "metadata": {},
   "outputs": [],
   "source": [
    "def convert_latencies(ssh_data):\n",
    "    \"\"\"\n",
    "    Convert latencies from microseconds to milliseconds. \n",
    "    \"\"\"\n",
    "    for sequence in ssh_data:\n",
    "        for keystroke in sequence:\n",
    "            keystroke['timestamp'] = keystroke['timestamp'] / 1000\n",
    "    return ssh_data"
   ]
  },
  {
   "cell_type": "code",
   "execution_count": 154,
   "id": "611c09e7-e403-4fec-a3df-b0227e71b16f",
   "metadata": {},
   "outputs": [],
   "source": [
    "def handle_ssh_backspaces(ssh_data):\n",
    "    \"\"\"\n",
    "    Account for backspaces in a session by removing the extra keystroke.\n",
    "\n",
    "    This should mirror the implementation for `handle_backspaces`.\n",
    "    \"\"\"\n",
    "    pass"
   ]
  },
  {
   "cell_type": "code",
   "execution_count": 155,
   "id": "62d4bb19-7939-4893-8d48-a4af526dc5bd",
   "metadata": {},
   "outputs": [],
   "source": [
    "def plot_ssh_latency(sequence):\n",
    "    \"\"\"\n",
    "    Plots SSH keystrokes (unlabeled).\n",
    "\n",
    "    Y-Axis: Latency (ms)\n",
    "    X-Axis: Keystroke ID\n",
    "    \"\"\"\n",
    "    plt.figure(figsize=(12, 8))\n",
    "    normal_keys_x = []\n",
    "    normal_keys_y = []\n",
    "    backspace_keys_x = []\n",
    "    backspace_keys_y = []\n",
    "    enter_keys_x = []\n",
    "    enter_keys_y = []\n",
    "\n",
    "    for keystroke_idx, keystroke in enumerate(sequence):\n",
    "        if keystroke['k_type'] == 'Delete':\n",
    "            backspace_keys_x.append(keystroke_idx)\n",
    "            backspace_keys_y.append(keystroke['timestamp'])\n",
    "        elif keystroke['k_type'] == 'Enter':\n",
    "            enter_keys_x.append(keystroke_idx)\n",
    "            enter_keys_y.append(keystroke['timestamp'])\n",
    "        normal_keys_x.append(keystroke_idx)\n",
    "        normal_keys_y.append(keystroke['timestamp'])\n",
    "                \n",
    "    # Plot normal keystrokes\n",
    "    plt.plot(normal_keys_x, normal_keys_y, marker='o', linestyle='-', label=f'Session 1 Keystrokes', zorder=1)\n",
    "    # Plot Backspace keystrokes\n",
    "    plt.scatter(backspace_keys_x, backspace_keys_y, color='red', marker='x', label=f'Session 1 Backspaces', zorder=2)\n",
    "    plt.scatter(enter_keys_x, enter_keys_y, color='green', marker='x', label=f'Session 1 Return', zorder=3)\n",
    "\n",
    "    plt.title(f'Latencies for SSH sequence')\n",
    "    plt.xlabel('Keystroke Sequence Number')\n",
    "    plt.ylabel('Latency (ms)')\n",
    "    plt.legend(bbox_to_anchor=(1.05, 1), loc='upper left')\n",
    "    plt.grid(True)\n",
    "    plt.show()"
   ]
  },
  {
   "cell_type": "code",
   "execution_count": 156,
   "id": "09b08bf5-5d66-40fc-a8fb-bd9a6fc62309",
   "metadata": {},
   "outputs": [],
   "source": [
    "def plot_ssh_sessions(ssh_sessions):\n",
    "    \"\"\"\n",
    "    Plots SSH sessions \n",
    "    \"\"\"\n",
    "    plt.figure(figsize=(12, 8))\n",
    "    \n",
    "    for sequence_idx, sequence in enumerate(ssh_sessions):\n",
    "        keystroke_times = [event['timestamp'] for event in sequence if event['k_type'] == 'Keystroke']  # Convert to milliseconds\n",
    "        enter_times = [event['timestamp'] for event in sequence if event['k_type'] == 'Enter']\n",
    "        enter_sizes = [event['response_size'] for event in sequence if event['k_type'] == 'Enter']\n",
    "        \n",
    "        # Plotting keystrokes\n",
    "        plt.plot(keystroke_times, [sequence_idx + 1] * len(keystroke_times), 'bo', label='Keystrokes' if sequence_idx == 0 else \"\")\n",
    "        \n",
    "        # Plotting Enter presses\n",
    "        for enter_time, size in zip(enter_times, enter_sizes):\n",
    "            plt.plot(enter_time, sequence_idx + 1, 'rx', label='Enter Press' if sequence_idx == 0 else \"\")\n",
    "            plt.text(enter_time, sequence_idx + 1, f' {size}B', verticalalignment='bottom')\n",
    "\n",
    "    plt.yticks(range(1, len(ssh_sessions) + 1), [f'Sequence {i+1}' for i in range(len(ssh_sessions))])\n",
    "    plt.title('SSH Packet Timestamps and Returned Data Size')\n",
    "    plt.xlabel('Time (ms)')\n",
    "    plt.ylabel('Sequence Number')\n",
    "    plt.legend()\n",
    "    plt.grid(True)\n",
    "    plt.show()"
   ]
  },
  {
   "cell_type": "code",
   "execution_count": 157,
   "id": "b70d8a22-97a1-4870-9576-5c1fea758728",
   "metadata": {},
   "outputs": [],
   "source": [
    "def plot_ssh_vs_command(ssh_sequence, command_mean_latencies, command):\n",
    "    \"\"\"\n",
    "    Plots an observed SSH sequence's latencies against the mean of the guessed (or any) command.\n",
    "    \"\"\"\n",
    "    plt.figure(figsize=(12, 8))\n",
    "    ssh_latencies = [keystroke['timestamp'] for keystroke in ssh_sequence if keystroke['k_type'] == 'Keystroke']\n",
    "\n",
    "    # Plot observed SSH sequence latencies\n",
    "    plt.plot(range(len(ssh_latencies)), ssh_latencies, color='blue', marker='o', linestyle='-', label='Observed SSH Keystrokes', zorder=2)\n",
    "\n",
    "    # Plot command mean latencies\n",
    "    # Interpolation for smoothness\n",
    "    x_new = np.linspace(0, len(command_mean_latencies) - 1, 300)  # 300 points for smooth line\n",
    "    spl = make_interp_spline(range(len(command_mean_latencies)), command_mean_latencies, k=3)  # BSpline object\n",
    "    y_smooth = spl(x_new)\n",
    "    \n",
    "    plt.plot(x_new, y_smooth, 'r-', label='Mean Command Latencies', linewidth=2, zorder=1)\n",
    "\n",
    "    plt.title(f'Observed SSH Latencies vs. \"{command}\" Command Mean Latencies')\n",
    "    plt.xlabel('Keystroke Sequence Number')\n",
    "    plt.ylabel('Latency (ms)')\n",
    "    plt.legend(loc='upper left')\n",
    "    plt.grid(True)\n",
    "    plt.tight_layout()\n",
    "    plt.show()"
   ]
  },
  {
   "cell_type": "code",
   "execution_count": 158,
   "id": "967af2ed-6c04-4ca8-9b70-aa287087360d",
   "metadata": {},
   "outputs": [],
   "source": [
    "def get_mean_latencies(command, command_dataset):\n",
    "    \"\"\"\n",
    "    Calculates mean latency per keystroke pair for a given command.\n",
    "\n",
    "    Expects get_mean_latencies('id', cmds['id'])\n",
    "    Ignores RET, unless command has an extra character at the end.\n",
    "        i.e. \"sudo apt update \" <--- the space will cause the RET \n",
    "        at the end to also be included in the mean latencies.\n",
    "    Returns a numpy array of the means, with length == len(command).\n",
    "    \"\"\"\n",
    "    means = [0 for i in range(len(command))]\n",
    "    for letter_index, letter in enumerate(command):\n",
    "        for sequence in command_dataset:\n",
    "            means[letter_index] += sequence[letter_index]['latency']\n",
    "    means = [i / len(command_dataset) for i in means]\n",
    "    return np.array(means)"
   ]
  },
  {
   "cell_type": "code",
   "execution_count": 159,
   "id": "61b1509d-7e20-4007-b06d-ecab91a36810",
   "metadata": {},
   "outputs": [],
   "source": [
    "def eliminate_candidates(intercept_length, command_dataset):\n",
    "    \"\"\"\n",
    "    Reduces the scope of possible commands.\n",
    "\n",
    "    Using the intercepted command's length, we can exclude commands with \n",
    "    a minimum length longer than the intercept. \n",
    "        i.e.: A five-letter intercept (XXXXX) cannot be ifconfig, no matter\n",
    "        how well the signature might match.\n",
    "    \"\"\"\n",
    "    candidates = {}\n",
    "    for command in command_dataset.keys():\n",
    "        splices = command.split(' ')\n",
    "#        if splices[0] == 'sudo':\n",
    "#            if len(splices[1]) + 5 > intercept_length:\n",
    "#                # Ignore command if itself \n",
    "#                continue\n",
    "        # Ignore command\n",
    "        if len(splices[0]) > intercept_length:\n",
    "            continue\n",
    "        else:\n",
    "            candidates[command] = command_dataset[command]\n",
    "    return candidates"
   ]
  },
  {
   "cell_type": "code",
   "execution_count": 160,
   "id": "f28e78cb-4100-4dc5-b085-ac4cf4c4a655",
   "metadata": {},
   "outputs": [],
   "source": [
    "def find_best_match(intercepted, command_dataset):\n",
    "    \"\"\"\n",
    "    Creates an ordered list of the distance of all possible commands to an intercepted sequence.\n",
    "\n",
    "    Distance is calculated using Dynamic Time Warping (DTW). \n",
    "    Latencies are normalised before being fed to dtw- show significantly better results.\n",
    "    \"\"\"\n",
    "    # Normalise intercepted keystrokes\n",
    "    unlabeled_latencies = np.array([keystroke['timestamp'] for keystroke in intercepted])\n",
    "    unlabeled_norm = unlabeled_latencies / np.max(unlabeled_latencies)\n",
    "\n",
    "    distances = []\n",
    "    # Only consider commands that have a min_len >= len(intercepted)\n",
    "    candidates = eliminate_candidates(len(intercepted), command_dataset)\n",
    "    for command in candidates.keys():\n",
    "        try:\n",
    "            # Get mean keystroke latencies, but only up to len(intercepted)\n",
    "            cmd_mean_latencies = get_mean_latencies(command, command_dataset[command])[:len(intercepted)]\n",
    "        except:\n",
    "            print(f\"failed at {command}\")\n",
    "            continue\n",
    "\n",
    "        known_norm = cmd_mean_latencies / np.max(cmd_mean_latencies)\n",
    "        distance = dtw.distance(unlabeled_norm, known_norm)\n",
    "        distances.append((command, distance))\n",
    "\n",
    "    distances = sorted(distances, key=lambda x: x[1])\n",
    "    return distances"
   ]
  },
  {
   "cell_type": "code",
   "execution_count": 161,
   "id": "3bd196d0-3216-4bb0-99b1-c481aa06bbac",
   "metadata": {},
   "outputs": [],
   "source": [
    "from scipy.stats import pearsonr\n",
    "\n",
    "def find_best_match_pearson(intercepted, command_dataset):\n",
    "    \"\"\"\n",
    "    Finds the best match for an intercepted sequence by calculating the pearson correlation coefficient.\n",
    "    \"\"\"\n",
    "    # Normalise intercepted keystrokes\n",
    "    unlabeled_latencies = np.array([keystroke['timestamp'] for keystroke in intercepted])\n",
    "    unlabeled_norm = unlabeled_latencies / np.max(unlabeled_latencies)\n",
    "\n",
    "    distances = []\n",
    "    # Only consider commands that have a min_len >= len(intercepted)\n",
    "    candidates = eliminate_candidates(len(intercepted), command_dataset)\n",
    "    for command in candidates.keys():\n",
    "        try:\n",
    "            # Get mean keystroke latencies, normalized, for up to len(intercepted)\n",
    "            cmd_mean_latencies = get_mean_latencies(command, command_dataset[command])[:len(intercepted)]\n",
    "            known_norm = cmd_mean_latencies / np.max(cmd_mean_latencies)\n",
    "            distance, _ = pearsonr(unlabeled_norm, known_norm)\n",
    "            distances.append((command, 1-distance))\n",
    "        except Exception as e:\n",
    "            #print(f\"Failed at {command}, Error: {e}\")\n",
    "            continue\n",
    "\n",
    "    # Sort commands by their distance (ascending)\n",
    "    distances.sort(key=lambda x: x[1])\n",
    "    return distances"
   ]
  },
  {
   "cell_type": "code",
   "execution_count": 162,
   "id": "c931b83f-9f27-4a34-98e0-3fa199dd1fb9",
   "metadata": {},
   "outputs": [],
   "source": [
    "from scipy.spatial.distance import euclidean\n",
    "\n",
    "def find_best_match_euclidean(intercepted, command_dataset):\n",
    "    \"\"\"\n",
    "    Finds the best match for an intercepted sequence using Euclidean distance.\n",
    "    \"\"\"\n",
    "    # Normalise intercepted keystrokes\n",
    "    unlabeled_latencies = np.array([keystroke['timestamp'] for keystroke in intercepted])\n",
    "    unlabeled_norm = unlabeled_latencies / np.max(unlabeled_latencies)\n",
    "\n",
    "    distances = []\n",
    "    # Only consider commands that have a min_len >= len(intercepted)\n",
    "    candidates = eliminate_candidates(len(intercepted), command_dataset)\n",
    "    for command in candidates.keys():\n",
    "        try:\n",
    "            # Get mean keystroke latencies, normalized, for up to len(intercepted)\n",
    "            cmd_mean_latencies = get_mean_latencies(command, command_dataset[command])[:len(intercepted)]\n",
    "            known_norm = cmd_mean_latencies / np.max(cmd_mean_latencies)\n",
    "            distance = euclidean(unlabeled_norm, known_norm)\n",
    "            distances.append((command, distance))\n",
    "        except Exception as e:\n",
    "            #print(f\"Failed at {command}, Error: {e}\")\n",
    "            continue\n",
    "\n",
    "    # Sort commands by their distance (ascending)\n",
    "    distances.sort(key=lambda x: x[1])\n",
    "    return distances"
   ]
  },
  {
   "cell_type": "code",
   "execution_count": 163,
   "id": "182e5736-13c5-451e-b4ee-d72121f17e85",
   "metadata": {},
   "outputs": [],
   "source": [
    "def is_it_sudo(intercepted, command_dataset) -> bool:\n",
    "    \"\"\"\n",
    "    Determines whether the first five keystrokes are similar to \"sudo \".\n",
    "\n",
    "    Assumes len(intercepted) >= 5.\n",
    "    \"\"\"\n",
    "    return find_best_match(intercepted[:6], command_dataset)[0][0] == 'sudo'"
   ]
  },
  {
   "cell_type": "code",
   "execution_count": 164,
   "id": "f0feff64-801a-4fe0-9c3d-57c96cc09056",
   "metadata": {},
   "outputs": [],
   "source": [
    "def extract_tsf_features(latency_sequences):\n",
    "    \"\"\"\n",
    "    Extracts time series features from latency sequences using tsfresh.\n",
    "    \"\"\"\n",
    "    extracted_features = extract_features(latency_sequences, column_id=\"id\", column_sort=\"time\", \n",
    "                                          default_fc_parameters=ComprehensiveFCParameters(), impute_function=impute)\n",
    "    return extracted_features"
   ]
  },
  {
   "cell_type": "code",
   "execution_count": 165,
   "id": "1219614e-2096-4ddf-bedf-6fa4e0a33faa",
   "metadata": {},
   "outputs": [],
   "source": [
    "def create_feature_matrix(commands):\n",
    "    \"\"\"\n",
    "    Constructs a feature matrix for all commands' latency sequences.\n",
    "    \"\"\"\n",
    "    all_features = []\n",
    "    labels = []\n",
    "    command_ids = {cmd: idx for idx, cmd in enumerate(commands.keys())}\n",
    "    \n",
    "    for command, sequences in commands.items():\n",
    "        print(f\"{command=}\")\n",
    "        for sequence in sequences:\n",
    "            data = {'id': [], 'time': [], 'value': []}\n",
    "            for time_point, entry in enumerate(sequence):\n",
    "                data['id'].append(command_ids[command])\n",
    "                data['time'].append(time_point)\n",
    "                data['value'].append(entry['latency'])\n",
    "            df = pd.DataFrame(data)\n",
    "            features = extract_tsf_features(df)\n",
    "            all_features.append(features)\n",
    "            labels.append(command_ids[command])\n",
    "    \n",
    "    return pd.concat(all_features), np.array(labels)"
   ]
  },
  {
   "cell_type": "code",
   "execution_count": 227,
   "id": "4acd2dea-f7f6-4f15-8678-e4f3e50e1b8c",
   "metadata": {},
   "outputs": [],
   "source": [
    "def train_tsf(X, y):\n",
    "    \"\"\"\n",
    "    Trains a Time Series Forest model.\n",
    "    \"\"\"\n",
    "    model = RandomForestClassifier(n_estimators=100, random_state=42)\n",
    "    model.fit(X, y)\n",
    "    return model"
   ]
  },
  {
   "cell_type": "code",
   "execution_count": 228,
   "id": "ab8f3ee4-6e0f-4da3-803a-792668076119",
   "metadata": {},
   "outputs": [],
   "source": [
    "def predict_command(model, new_sequence):\n",
    "    \"\"\"\n",
    "    Predicts the command type from a new latency sequence using the trained TSF model.\n",
    "    \"\"\"\n",
    "    new_features = extract_tsf_features(new_sequence)  # Assuming new_sequence is prepared in a similar way as training data\n",
    "    prediction = model.predict(new_features)\n",
    "    return prediction"
   ]
  },
  {
   "cell_type": "code",
   "execution_count": 174,
   "id": "409c52c9-1774-4eda-ae58-eebfbe66ae53",
   "metadata": {},
   "outputs": [],
   "source": [
    "# Load the saved dataframes for TSF- participant dataset (refer to analysis.ipynb for calculations)\n",
    "X_train_participants = pd.read_csv(\"./xtrain_participants.csv\").drop('Unnamed: 0', axis=1)\n",
    "y_train_participants = np.array([ 0, 0, 0, 0, 1, 1, 1, 1, 1, 1, 1, 1, 1, 1, 1, 1, 1, 1, 1, 1, 1, 1, 1, 1, 1, 1, 1, 1, 1, 1, 1, 1, 1, 1, 1, 1, 1, 1, 1, 2, 2, 2, 2, 2, 3, 3, 3, 3, 3, 4, 4, 4, 5, 5, 5, 5, 5, 5, 6, 6, 6, 6, 6, 6, 6, 6, 6, 6, 7, 7, 7, 7, 7, 7, 7, 7, 7, 7, 7, 7, 7, 7, 8, 8, 8, 8, 8, 8, 8, 8, 8, 8, 9, 9, 9, 9, 9, 9, 9, 9, 9, 9, 10, 10, 10, 10, 10, 11, 11, 11, 11, 11, 11, 11, 11, 12, 12, 12, 12, 12, 13, 13, 13, 13, 13, 14, 14, 14, 14, 14, 14, 14, 14, 14, 14, 14, 14, 15, 15, 15, 15, 15, 15, 15, 15, 15, 16, 16, 16, 16, 16, 16, 16, 16, 16, 16, 16, 16, 17, 17, 17, 17, 17, 17, 17, 17, 17, 17, 17, 18, 18, 18, 18, 18, 18, 18, 18, 18, 18, 18, 18, 18, 18, 18, 18, 18, 18, 18, 18, 18, 18, 18, 18, 18, 18, 18, 18, 18, 18, 18, 18, 18, 18, 18, 18, 18, 18, 19, 19, 19, 19, 19, 19, 19, 19, 20, 20, 20, 20, 20, 20, 20, 20, 20, 20, 20, 21, 21, 21, 21, 21, 21, 21, 21, 21, 21, 21, 21, 21, 21, 22, 22, 22, 22, 22, 22, 22, 22, 22, 23, 23, 23, 23, 23, 23, 23, 23, 24, 24, 24, 24, 24, 24, 24, 24, 25, 25, 25, 25, 25, 25, 26, 26, 26, 26, 26, 26, 26, 26, 27, 27, 27, 27, 27, 27, 27, 27, 27, 28, 28, 28, 28, 28, 28, 28, 28, 28, 29, 29, 29, 29, 29, 29, 29, 29, 29, 29, 29, 29, 29, 29, 29, 30, 30, 30, 30, 30, 30, 30, 30, 30, 30, 30, 30, 30, 30, 30, 31, 31, 31, 31, 31, 31, 31, 31, 31, 31, 31, 31, 31, 31, 31, 31, 31, 31, 32, 32, 32, 32, 32, 32, 32, 32, 32, 32, 32, 32, 32, 33, 33, 33, 33, 33, 33, 33, 33, 33, 33, 33, 33, 33, 33, 34, 34, 34, 34, 35, 35, 35, 35, 35, 35, 36, 36, 36, 36, 36, 36, 37, 37, 37, 38, 38, 38, 38, 38, 38, 38, 39, 39, 39, 39, 40, 40, 40, 40, 40, 40, 40, 40, 40, 41, 41, 41, 41, 41, 41, 41, 41, 41, 41, 42, 42, 42, 42, 42, 42, 42, 43, 43, 43, 43, 43, 43, 43, 43, 43, 43, 43, 43, 43, 43, 43, 43, 43, 43, 43, 43, 43, 44, 44, 44, 44, 44, 44, 44, 44, 44, 44, 44, 45, 45, 45, 45, 45, 45, 45, 45, 45, 45, 46, 46, 46, 46, 47, 47, 47, 47, 47, 47, 47, 47, 47, 47, 47, 47, 48, 48, 48, 48, 48, 48, 48, 48, 48, 48, 48, 48, 48, 48, 48, 49, 49, 49, 50, 50, 50, 50, 50, 51, 51, 51, 51, 51, 52, 52, 52, 52, 52, 53, 53, 53, 53, 53, 53, 53, 54, 54, 54, 55, 55, 55, 55, 55, 55, 56, 56, 56, 56, 56, 56, 56, 56, 56, 56, 57, 57, 57, 57, 57, 57, 57, 57, 58, 58, 58, 59, 59, 59, 59, 59, 59, 60, 60, 60, 60, 60, 60, 61, 61, 61, 61, 61, 61, 61, 61, 62, 62, 62, 62, 63, 63, 63, 63, 63, 63, 63, 64, 64, 64, 64, 64, 65, 65, 65, 65, 65, 65, 65, 66, 66, 66, 66, 66, 66, 66, 66, 67, 67, 67, 67, 67, 67, 67, 67, 68, 68, 68, 68, 68, 68, 68, 69, 69, 70, 70, 70, 70, 71, 71, 72, 72, 72, 72, 73, 73, 73, 73, 73, 73, 73, 74, 74, 75, 75, 75, 75, 75, 75, 76, 76, 76, 76, 76, 77, 77, 77, 77, 77, 78, 78, 78, 78, 78, 78, 79, 79, 79, 79, 80, 81, 81, 81, 82, 82, 82, 83, 83, 83])"
   ]
  },
  {
   "cell_type": "code",
   "execution_count": 175,
   "id": "4a9d61b7-eecb-41c3-a0e5-b7c372a13cd4",
   "metadata": {},
   "outputs": [],
   "source": [
    "# Load the saved dataframes for TSF- tailored dataset (refer to analysis.ipynb for calculations)\n",
    "X_train = pd.read_csv(\"./xtrain.csv\").drop('Unnamed: 0', axis=1)\n",
    "y_train = np.array([ 0, 0, 0, 0, 0, 0, 0, 0, 0, 0, 0, 0, 0, 0, 0, 0, 0, 0, 1, 1, 1, 1, 1, 1, 1, 1, 1, 1, 1, 1, 1, 1, 1, 1, 1, 1, 1, 1, 1, 1, 1, 1, 1, 1, 1, 1, 1, 1, 1, 1, 1, 1, 1, 1, 1, 1, 1, 1, 1, 1, 1, 1, 1, 1, 1, 1, 1, 1, 1, 1, 1, 1, 1, 1, 1, 1, 2, 2, 2, 2, 2, 2, 2, 2, 2, 2, 2, 2, 2, 2, 2, 2, 2, 2, 2, 2, 3, 3, 3, 3, 3, 3, 3, 3, 3, 3, 3, 3, 3, 3, 3, 3, 3, 3, 4, 4, 4, 4, 4, 4, 4, 4, 4, 4, 4, 4, 4, 4, 4, 4, 4, 4, 4, 4, 5, 5, 5, 5, 5, 5, 5, 5, 5, 5, 5, 5, 5, 5, 5, 5, 5, 5, 5, 5, 5, 5, 6, 6, 6, 6, 6, 6, 6, 6, 6, 6, 6, 6, 6, 6, 6, 6, 6, 6, 6, 7, 7, 7, 7, 7, 7, 7, 7, 7, 7, 7, 8, 8, 8, 8, 8, 8, 8, 8, 8, 8, 8, 8, 8, 8, 8, 8, 8, 9, 9, 9, 9, 9, 9, 9, 9, 9, 9, 9, 9, 9, 9, 9, 9, 9, 9, 9, 9, 9, 9, 9, 9, 9, 9, 9, 9, 9, 9, 9, 9, 9, 9, 9, 9, 9, 9, 9, 9, 9, 9, 9, 9, 9, 9, 9, 9, 9, 9, 9, 9, 9, 9, 9, 9, 9, 9, 9, 9, 9, 9, 9, 9, 9, 9, 9, 9, 9, 9, 9, 9, 9, 9, 9, 9, 9, 9, 9, 9, 10, 10, 10, 10, 10, 10, 10, 10, 10, 10, 10, 10, 10, 10, 10, 10, 10, 10, 10, 10, 10, 11, 11, 11, 11, 11, 11, 11, 11, 11, 11, 11, 11, 11, 11, 11, 11, 11, 12, 12, 12, 12, 12, 12, 12, 12, 12, 12, 12, 12, 12, 12, 12, 12, 12, 13, 13, 13, 13, 13, 13, 13, 13, 13, 13, 13, 13, 13, 13, 13, 13, 13, 13, 13, 13, 14, 14, 14, 14, 14, 14, 14, 14, 14, 14, 15, 15, 15, 15, 15, 15, 15, 15, 15, 15, 15, 15, 15, 15, 15, 15, 15, 15, 15, 15, 15, 15, 15, 16, 16, 16, 16, 16, 16, 16, 16, 16, 16, 16, 16, 16, 16, 16, 16, 16, 16, 16, 16, 17, 17, 17, 17, 17, 17, 17, 17, 17, 17, 17, 17, 17, 17, 17, 17, 18, 18, 18, 18, 18, 18, 18, 18, 18, 18, 18, 18, 18, 18, 19, 19, 19, 19, 19, 19, 19, 19, 19, 19, 19, 19, 19, 19, 19, 19, 20, 20, 20, 20, 20, 20, 20, 20, 20, 20, 20, 20, 20, 21, 21, 21, 21, 21, 21, 21, 21, 21, 21, 21, 21, 21, 21, 21, 21, 22, 22, 22, 22, 22, 22, 22, 23, 23, 23, 23, 23, 23, 23, 23, 23, 23, 23, 23, 23, 23, 23, 24, 24, 24, 24, 24, 24, 24, 24, 24, 24, 24, 25, 25, 25, 25, 25, 25, 25, 25, 25, 25, 25, 25, 25, 25, 25, 25, 25, 25, 25, 25, 26, 26, 26, 26, 26, 26, 26, 26, 26, 26, 26, 26, 26, 26, 26, 26, 26, 26, 27, 27, 27, 27, 27, 27, 27, 27, 27, 27, 27, 27, 27, 27, 27, 27, 27, 27, 27, 27, 28, 28, 28, 28, 28, 28, 28, 28, 29, 29, 29, 29, 29, 29, 29, 29, 29, 29, 29, 29, 29, 29, 29, 29, 29, 29, 29, 29, 30, 30, 30, 30, 30, 30, 30, 30, 30, 30, 30, 30, 30, 30, 30, 30, 30, 31, 31, 31, 31, 31, 31, 31, 31, 32, 32, 32, 32, 32, 32, 32, 32, 32, 32, 32, 32])"
   ]
  },
  {
   "cell_type": "code",
   "execution_count": 127,
   "id": "b22f2a8c-95b9-4725-b910-f5e7b9efb025",
   "metadata": {},
   "outputs": [],
   "source": [
    "# Load one\n",
    "cmds = load_dataset(datadir=\"./personalised_data/\", combine_tokens=True, tokens=set([\"sudo\",\"systemctl\"]), backspaces=False)\n",
    "#cmds = load_dataset(datadir=\"./data/\", combine_tokens=True, tokens=set([\"sudo\",\"systemctl\"]), backspaces=False)"
   ]
  },
  {
   "cell_type": "code",
   "execution_count": 257,
   "id": "a070a6e7-4e04-4b3e-be96-6b1294cc43d9",
   "metadata": {},
   "outputs": [],
   "source": [
    "# Load both\n",
    "cmds = load_dataset(datadir=\"./personalised_data/\", combine_tokens=True, tokens=set([\"sudo\",\"systemctl\"]), backspaces=False)\n",
    "cmds2 = load_dataset(datadir=\"./data/\", combine_tokens=True, tokens=set([\"sudo\",\"systemctl\"]), backspaces=False)\n",
    "\n",
    "for key in cmds2.keys():\n",
    "    if key in cmds:\n",
    "        cmds[key].extend(cmds2[key])\n",
    "    else:\n",
    "        cmds[key] = cmds2[key]"
   ]
  },
  {
   "cell_type": "code",
   "execution_count": 179,
   "id": "88d0ac0f-d666-4512-8a46-3d773f06164c",
   "metadata": {},
   "outputs": [
    {
     "data": {
      "text/plain": [
       "dict_keys(['exit', 'sudo', 'sudo su', 'iptables -S', 'sudo apt update', 'cat /etc/resolv.conf', 'cat /etc/hosts', 'ping -c 1 9.9.9.9', 'ifconfig', 'systemctl', 'systemctl start ', 'curl http://', 'uptime', 'systemctl stop ', 'mv * ../', 'systemctl status ', 'cat /etc/passwd', 'rm -rf /tmp/*', 'wget https://', 'systemctl restart ', 'id', 'df -hT /', 'tar --help', 'cd', 'tail /var/log/syslog', 'whoami', 'sudo apt upgrade ', 'iptables -L', 'netstat -tuln', 'nano ', 'vim ', 'ss -tuln', 'touch '])"
      ]
     },
     "execution_count": 179,
     "metadata": {},
     "output_type": "execute_result"
    }
   ],
   "source": [
    "cmds.keys()"
   ]
  },
  {
   "cell_type": "code",
   "execution_count": 178,
   "id": "4fe40a8f-de4b-4d30-b5fc-c207e0372c4d",
   "metadata": {},
   "outputs": [
    {
     "data": {
      "text/plain": [
       "{'exit',\n",
       " 'id',\n",
       " 'ifconfig',\n",
       " 'iptables -L',\n",
       " 'netstat -tuln',\n",
       " 'ss -tuln',\n",
       " 'sudo',\n",
       " 'sudo apt update',\n",
       " 'systemctl',\n",
       " 'uptime',\n",
       " 'whoami'}"
      ]
     },
     "execution_count": 178,
     "metadata": {},
     "output_type": "execute_result"
    }
   ],
   "source": [
    "set(cmds.keys()).intersection(set(load_dataset(datadir=\"./data/\", combine_tokens=True, tokens=set([\"sudo\",\"systemctl\"]), backspaces=False).keys()))"
   ]
  },
  {
   "cell_type": "code",
   "execution_count": 317,
   "id": "872c55a7-1cf7-4bc2-afc8-17c95bb83b0d",
   "metadata": {
    "scrolled": true
   },
   "outputs": [],
   "source": [
    "ssh = load_ssh_session(\"./sshniff_output/capture_4_sessions.json\")"
   ]
  },
  {
   "cell_type": "code",
   "execution_count": 318,
   "id": "a26d5631-2866-423c-bbc6-1d6980e38da4",
   "metadata": {},
   "outputs": [
    {
     "data": {
      "text/plain": [
       "[9,\n",
       " 9,\n",
       " 9,\n",
       " 9,\n",
       " 9,\n",
       " 9,\n",
       " 17,\n",
       " 7,\n",
       " 7,\n",
       " 7,\n",
       " 7,\n",
       " 7,\n",
       " 7,\n",
       " 7,\n",
       " 14,\n",
       " 14,\n",
       " 14,\n",
       " 14,\n",
       " 14,\n",
       " 6,\n",
       " 12,\n",
       " 12,\n",
       " 12,\n",
       " 12,\n",
       " 12,\n",
       " 5]"
      ]
     },
     "execution_count": 318,
     "metadata": {},
     "output_type": "execute_result"
    }
   ],
   "source": [
    "[len(i) for i in ssh]"
   ]
  },
  {
   "cell_type": "code",
   "execution_count": 319,
   "id": "0db59104-e928-4686-a45b-96fc62f695c8",
   "metadata": {},
   "outputs": [
    {
     "data": {
      "image/png": "[encoded data removed]",
      "text/plain": [
       "<Figure size 1200x800 with 1 Axes>"
      ]
     },
     "metadata": {},
     "output_type": "display_data"
    }
   ],
   "source": [
    "command = 'ifconfig'\n",
    "plot_ssh_vs_command(ssh[0], get_mean_latencies(command, cmds[command]), command)"
   ]
  },
  {
   "cell_type": "code",
   "execution_count": 321,
   "id": "67d1eb90-8150-4434-a5b0-301f030654ed",
   "metadata": {},
   "outputs": [],
   "source": [
    "# Remove RETURN from intercept- seems better for matching to commands\n",
    "# Probably because of the \"pause\", double-checking a command before running it.\n",
    "for sequence in ssh:\n",
    "    sequence.pop()\n",
    "try:\n",
    "    ssh.remove([])\n",
    "except:\n",
    "    pass"
   ]
  },
  {
   "cell_type": "code",
   "execution_count": 297,
   "id": "80b3c383-798f-4867-be4b-347be7e6d9c1",
   "metadata": {},
   "outputs": [],
   "source": [
    "#model = train_tsf(X_train_participants, y_train_participants)\n",
    "model = train_tsf(X_train, y_train)"
   ]
  },
  {
   "cell_type": "code",
   "execution_count": 306,
   "id": "fc659f70-e9bc-4a6a-950a-a97e0c42c604",
   "metadata": {},
   "outputs": [],
   "source": [
    "intercepted_latencies = [[k['timestamp']*1000 for k in ssh[i]] for i in range(len(ssh))]\n",
    "observed_sequences = [{'id': [0] * len(intercept), 'time': list(range(len(intercept))), 'value': intercept} for intercept in intercepted_latencies]"
   ]
  },
  {
   "cell_type": "code",
   "execution_count": 311,
   "id": "15f3ce22-6635-4d89-bf57-6a94f1a4b660",
   "metadata": {},
   "outputs": [
    {
     "name": "stderr",
     "output_type": "stream",
     "text": [
      "Feature Extraction: 100%|████████████████████████████████████████████████████████████████| 1/1 [00:02<00:00,  2.03s/it]\n",
      "Feature Extraction: 100%|████████████████████████████████████████████████████████████████| 1/1 [00:01<00:00,  1.94s/it]\n",
      "Feature Extraction: 100%|████████████████████████████████████████████████████████████████| 1/1 [00:01<00:00,  2.00s/it]\n",
      "Feature Extraction: 100%|████████████████████████████████████████████████████████████████| 1/1 [00:02<00:00,  2.03s/it]\n",
      "Feature Extraction: 100%|████████████████████████████████████████████████████████████████| 1/1 [00:01<00:00,  1.97s/it]\n",
      "Feature Extraction: 100%|████████████████████████████████████████████████████████████████| 1/1 [00:01<00:00,  2.00s/it]\n",
      "Feature Extraction: 100%|████████████████████████████████████████████████████████████████| 1/1 [00:01<00:00,  1.95s/it]"
     ]
    },
    {
     "name": "stdout",
     "output_type": "stream",
     "text": [
      "['whoami', 'whoami', 'uptime', 'whoami', 'whoami', 'uptime', 'wget https://']\n"
     ]
    },
    {
     "name": "stderr",
     "output_type": "stream",
     "text": [
      "\n"
     ]
    }
   ],
   "source": [
    "# 'Best' prediction for each sequence\n",
    "predictions = []\n",
    "for sequence in observed_sequences:\n",
    "    prediction = predict_command(model, pd.DataFrame(sequence))\n",
    "    predictions.append(list(cmds.keys())[prediction[0]])\n",
    "print(predictions)"
   ]
  },
  {
   "cell_type": "code",
   "execution_count": 258,
   "id": "037c4291-e45f-4ccc-8313-06e11b157c5b",
   "metadata": {},
   "outputs": [
    {
     "name": "stdout",
     "output_type": "stream",
     "text": [
      "New Sequence\n"
     ]
    },
    {
     "name": "stderr",
     "output_type": "stream",
     "text": [
      "Feature Extraction: 100%|████████████████████████████████████████████████████████████████| 1/1 [00:01<00:00,  2.00s/it]\n"
     ]
    },
    {
     "name": "stdout",
     "output_type": "stream",
     "text": [
      "Prediction: whoami ; 0.23\n",
      "Prediction: uptime ; 0.21\n",
      "Prediction: mv * ../ ; 0.19\n",
      "Prediction: touch  ; 0.11\n",
      "Prediction: nano  ; 0.07\n",
      "Prediction: df -hT / ; 0.05\n",
      "Prediction: systemctl ; 0.05\n",
      "Prediction: sudo su ; 0.03\n",
      "Prediction: vim  ; 0.02\n",
      "Prediction: ifconfig ; 0.01\n",
      "New Sequence\n"
     ]
    },
    {
     "name": "stderr",
     "output_type": "stream",
     "text": [
      "Feature Extraction: 100%|████████████████████████████████████████████████████████████████| 1/1 [00:01<00:00,  1.95s/it]\n"
     ]
    },
    {
     "name": "stdout",
     "output_type": "stream",
     "text": [
      "Prediction: iptables -L ; 0.2\n",
      "Prediction: iptables -S ; 0.19\n",
      "Prediction: tar --help ; 0.13\n",
      "Prediction: curl http:// ; 0.11\n",
      "Prediction: mv * ../ ; 0.06\n",
      "Prediction: ss -tuln ; 0.05\n",
      "Prediction: rm -rf /tmp/* ; 0.04\n",
      "Prediction: df -hT / ; 0.04\n",
      "Prediction: wget https:// ; 0.03\n",
      "Prediction: systemctl ; 0.02\n",
      "New Sequence\n"
     ]
    },
    {
     "name": "stderr",
     "output_type": "stream",
     "text": [
      "Feature Extraction: 100%|████████████████████████████████████████████████████████████████| 1/1 [00:01<00:00,  1.91s/it]\n"
     ]
    },
    {
     "name": "stdout",
     "output_type": "stream",
     "text": [
      "Prediction: iptables -S ; 0.28\n",
      "Prediction: curl http:// ; 0.16\n",
      "Prediction: iptables -L ; 0.16\n",
      "Prediction: tar --help ; 0.15\n",
      "Prediction: mv * ../ ; 0.05\n",
      "Prediction: rm -rf /tmp/* ; 0.04\n",
      "Prediction: wget https:// ; 0.04\n",
      "Prediction: systemctl ; 0.02\n",
      "Prediction: exit ; 0.01\n",
      "Prediction: systemctl restart  ; 0.01\n",
      "New Sequence\n"
     ]
    },
    {
     "name": "stderr",
     "output_type": "stream",
     "text": [
      "Feature Extraction: 100%|████████████████████████████████████████████████████████████████| 1/1 [00:02<00:00,  2.02s/it]\n"
     ]
    },
    {
     "name": "stdout",
     "output_type": "stream",
     "text": [
      "Prediction: cat /etc/hosts ; 0.24\n",
      "Prediction: rm -rf /tmp/* ; 0.16\n",
      "Prediction: wget https:// ; 0.15\n",
      "Prediction: ping -c 1 9.9.9.9 ; 0.09\n",
      "Prediction: netstat -tuln ; 0.06\n",
      "Prediction: curl http:// ; 0.04\n",
      "Prediction: systemctl start  ; 0.04\n",
      "Prediction: sudo apt update ; 0.03\n",
      "Prediction: systemctl stop  ; 0.03\n",
      "Prediction: cat /etc/passwd ; 0.03\n",
      "New Sequence\n"
     ]
    },
    {
     "name": "stderr",
     "output_type": "stream",
     "text": [
      "Feature Extraction: 100%|████████████████████████████████████████████████████████████████| 1/1 [00:02<00:00,  2.16s/it]\n"
     ]
    },
    {
     "name": "stdout",
     "output_type": "stream",
     "text": [
      "Prediction: ping -c 1 9.9.9.9 ; 0.2\n",
      "Prediction: cat /etc/resolv.conf ; 0.15\n",
      "Prediction: systemctl restart  ; 0.14\n",
      "Prediction: tail /var/log/syslog ; 0.1\n",
      "Prediction: sudo apt upgrade  ; 0.07\n",
      "Prediction: cat /etc/passwd ; 0.06\n",
      "Prediction: curl http:// ; 0.06\n",
      "Prediction: systemctl status  ; 0.05\n",
      "Prediction: rm -rf /tmp/* ; 0.03\n",
      "Prediction: iptables -S ; 0.02\n",
      "New Sequence\n"
     ]
    },
    {
     "name": "stderr",
     "output_type": "stream",
     "text": [
      "Feature Extraction: 100%|████████████████████████████████████████████████████████████████| 1/1 [00:02<00:00,  2.05s/it]\n"
     ]
    },
    {
     "name": "stdout",
     "output_type": "stream",
     "text": [
      "Prediction: wget https:// ; 0.26\n",
      "Prediction: rm -rf /tmp/* ; 0.21\n",
      "Prediction: curl http:// ; 0.11\n",
      "Prediction: cat /etc/hosts ; 0.1\n",
      "Prediction: netstat -tuln ; 0.07\n",
      "Prediction: systemctl start  ; 0.04\n",
      "Prediction: ping -c 1 9.9.9.9 ; 0.03\n",
      "Prediction: iptables -S ; 0.02\n",
      "Prediction: systemctl restart  ; 0.02\n",
      "Prediction: cat /etc/passwd ; 0.02\n",
      "New Sequence\n"
     ]
    },
    {
     "name": "stderr",
     "output_type": "stream",
     "text": [
      "Feature Extraction: 100%|████████████████████████████████████████████████████████████████| 1/1 [00:02<00:00,  2.06s/it]\n"
     ]
    },
    {
     "name": "stdout",
     "output_type": "stream",
     "text": [
      "Prediction: mv * ../ ; 0.2\n",
      "Prediction: sudo su ; 0.19\n",
      "Prediction: systemctl ; 0.17\n",
      "Prediction: df -hT / ; 0.11\n",
      "Prediction: whoami ; 0.07\n",
      "Prediction: ifconfig ; 0.06\n",
      "Prediction: uptime ; 0.06\n",
      "Prediction: vim  ; 0.03\n",
      "Prediction: ss -tuln ; 0.03\n",
      "Prediction: touch  ; 0.02\n",
      "New Sequence\n"
     ]
    },
    {
     "name": "stderr",
     "output_type": "stream",
     "text": [
      "Feature Extraction: 100%|████████████████████████████████████████████████████████████████| 1/1 [00:02<00:00,  2.20s/it]\n"
     ]
    },
    {
     "name": "stdout",
     "output_type": "stream",
     "text": [
      "Prediction: tail /var/log/syslog ; 0.3\n",
      "Prediction: cat /etc/resolv.conf ; 0.23\n",
      "Prediction: systemctl status  ; 0.06\n",
      "Prediction: ping -c 1 9.9.9.9 ; 0.06\n",
      "Prediction: systemctl restart  ; 0.06\n",
      "Prediction: sudo apt upgrade  ; 0.04\n",
      "Prediction: curl http:// ; 0.04\n",
      "Prediction: cat /etc/passwd ; 0.03\n",
      "Prediction: wget https:// ; 0.03\n",
      "Prediction: rm -rf /tmp/* ; 0.03\n",
      "New Sequence\n"
     ]
    },
    {
     "name": "stderr",
     "output_type": "stream",
     "text": [
      "Feature Extraction: 100%|████████████████████████████████████████████████████████████████| 1/1 [00:02<00:00,  2.03s/it]\n"
     ]
    },
    {
     "name": "stdout",
     "output_type": "stream",
     "text": [
      "Prediction: nano  ; 0.38\n",
      "Prediction: uptime ; 0.19\n",
      "Prediction: exit ; 0.08\n",
      "Prediction: whoami ; 0.08\n",
      "Prediction: mv * ../ ; 0.05\n",
      "Prediction: df -hT / ; 0.04\n",
      "Prediction: vim  ; 0.04\n",
      "Prediction: systemctl ; 0.04\n",
      "Prediction: sudo su ; 0.03\n",
      "Prediction: touch  ; 0.03\n",
      "New Sequence\n"
     ]
    },
    {
     "name": "stderr",
     "output_type": "stream",
     "text": [
      "Feature Extraction: 100%|████████████████████████████████████████████████████████████████| 1/1 [00:02<00:00,  2.15s/it]\n"
     ]
    },
    {
     "name": "stdout",
     "output_type": "stream",
     "text": [
      "Prediction: nano  ; 0.4\n",
      "Prediction: whoami ; 0.13\n",
      "Prediction: mv * ../ ; 0.09\n",
      "Prediction: exit ; 0.08\n",
      "Prediction: uptime ; 0.08\n",
      "Prediction: touch  ; 0.06\n",
      "Prediction: sudo su ; 0.04\n",
      "Prediction: df -hT / ; 0.03\n",
      "Prediction: ifconfig ; 0.02\n",
      "Prediction: vim  ; 0.02\n",
      "New Sequence\n"
     ]
    },
    {
     "name": "stderr",
     "output_type": "stream",
     "text": [
      "Feature Extraction: 100%|████████████████████████████████████████████████████████████████| 1/1 [00:02<00:00,  2.11s/it]\n"
     ]
    },
    {
     "name": "stdout",
     "output_type": "stream",
     "text": [
      "Prediction: mv * ../ ; 0.3\n",
      "Prediction: systemctl ; 0.12\n",
      "Prediction: df -hT / ; 0.12\n",
      "Prediction: tar --help ; 0.1\n",
      "Prediction: iptables -S ; 0.07\n",
      "Prediction: curl http:// ; 0.06\n",
      "Prediction: ss -tuln ; 0.06\n",
      "Prediction: wget https:// ; 0.04\n",
      "Prediction: iptables -L ; 0.03\n",
      "Prediction: sudo su ; 0.02\n",
      "New Sequence\n"
     ]
    },
    {
     "name": "stderr",
     "output_type": "stream",
     "text": [
      "Feature Extraction: 100%|████████████████████████████████████████████████████████████████| 1/1 [00:02<00:00,  2.03s/it]\n"
     ]
    },
    {
     "name": "stdout",
     "output_type": "stream",
     "text": [
      "Prediction: rm -rf /tmp/* ; 0.26\n",
      "Prediction: curl http:// ; 0.15\n",
      "Prediction: wget https:// ; 0.13\n",
      "Prediction: netstat -tuln ; 0.09\n",
      "Prediction: cat /etc/hosts ; 0.09\n",
      "Prediction: iptables -L ; 0.04\n",
      "Prediction: iptables -S ; 0.04\n",
      "Prediction: ping -c 1 9.9.9.9 ; 0.03\n",
      "Prediction: systemctl status  ; 0.03\n",
      "Prediction: cat /etc/passwd ; 0.02\n",
      "New Sequence\n"
     ]
    },
    {
     "name": "stderr",
     "output_type": "stream",
     "text": [
      "Feature Extraction: 100%|████████████████████████████████████████████████████████████████| 1/1 [00:01<00:00,  1.97s/it]\n"
     ]
    },
    {
     "name": "stdout",
     "output_type": "stream",
     "text": [
      "Prediction: cat /etc/resolv.conf ; 0.3\n",
      "Prediction: tail /var/log/syslog ; 0.15\n",
      "Prediction: systemctl restart  ; 0.1\n",
      "Prediction: cat /etc/passwd ; 0.05\n",
      "Prediction: ping -c 1 9.9.9.9 ; 0.05\n",
      "Prediction: ss -tuln ; 0.04\n",
      "Prediction: systemctl status  ; 0.04\n",
      "Prediction: sudo apt upgrade  ; 0.03\n",
      "Prediction: systemctl start  ; 0.03\n",
      "Prediction: iptables -L ; 0.03\n",
      "New Sequence\n"
     ]
    },
    {
     "name": "stderr",
     "output_type": "stream",
     "text": [
      "Feature Extraction: 100%|████████████████████████████████████████████████████████████████| 1/1 [00:02<00:00,  2.05s/it]\n"
     ]
    },
    {
     "name": "stdout",
     "output_type": "stream",
     "text": [
      "Prediction: sudo ; 0.65\n",
      "Prediction: vim  ; 0.14\n",
      "Prediction: exit ; 0.09\n",
      "Prediction: id ; 0.05\n",
      "Prediction: nano  ; 0.02\n",
      "Prediction: cd ; 0.02\n",
      "Prediction: mv * ../ ; 0.01\n",
      "Prediction: ss -tuln ; 0.01\n",
      "Prediction: df -hT / ; 0.01\n",
      "Prediction: ping -c 1 9.9.9.9 ; 0.0\n",
      "New Sequence\n"
     ]
    },
    {
     "name": "stderr",
     "output_type": "stream",
     "text": [
      "Feature Extraction: 100%|████████████████████████████████████████████████████████████████| 1/1 [00:01<00:00,  1.88s/it]"
     ]
    },
    {
     "name": "stdout",
     "output_type": "stream",
     "text": [
      "Prediction: sudo ; 0.76\n",
      "Prediction: exit ; 0.08\n",
      "Prediction: vim  ; 0.08\n",
      "Prediction: cd ; 0.02\n",
      "Prediction: id ; 0.02\n",
      "Prediction: nano  ; 0.01\n",
      "Prediction: mv * ../ ; 0.01\n",
      "Prediction: ss -tuln ; 0.01\n",
      "Prediction: df -hT / ; 0.01\n",
      "Prediction: ping -c 1 9.9.9.9 ; 0.0\n"
     ]
    },
    {
     "name": "stderr",
     "output_type": "stream",
     "text": [
      "\n"
     ]
    }
   ],
   "source": [
    "for sequence in observed_sequences:\n",
    "    print(\"New Sequence\")\n",
    "    probs = model.predict_proba(extract_tsf_features(pd.DataFrame(sequence)))\n",
    "    predictions = model.classes_[np.argsort(probs)[:, ::-1]]\n",
    "    # Top 10 predictions (if any)\n",
    "    for pred in predictions[0][:10]:\n",
    "        command = list(cmds.keys())[pred]\n",
    "        print(f\"Prediction: {command} ; {probs[0][pred]}\")"
   ]
  },
  {
   "cell_type": "code",
   "execution_count": 292,
   "id": "452865d3-39cb-49ac-872f-b3a574bf5b2d",
   "metadata": {},
   "outputs": [
    {
     "data": {
      "text/plain": [
       "('sudo su', 0.2245308671929372)"
      ]
     },
     "execution_count": 292,
     "metadata": {},
     "output_type": "execute_result"
    }
   ],
   "source": [
    "find_best_match(sequence, cmds)[0]"
   ]
  },
  {
   "cell_type": "code",
   "execution_count": 329,
   "id": "3710d886-9786-4ff0-915d-8b37b7e36c5f",
   "metadata": {},
   "outputs": [
    {
     "name": "stdout",
     "output_type": "stream",
     "text": [
      "================================================================\n",
      "DTW:  ('ping -c 1 9.9.9.9', 0.157847456531215)\n",
      "Euclidean:  ('ping -c 1 9.9.9.9', 0.157847456531215)\n",
      "Pearson:  ('ping -c 1 9.9.9.9', 0.018585574321781984)\n",
      "================================================================\n",
      "DTW:  ('uptime', 0.2187423264941309)\n",
      "Euclidean:  ('uptime', 0.2187423264941309)\n",
      "Pearson:  ('uptime', 0.041096113684762736)\n",
      "================================================================\n",
      "DTW:  ('wget https://', 0.15592367459964704)\n",
      "Euclidean:  ('ss -tuln', 0.16502234830807924)\n",
      "Pearson:  ('ss -tuln', 0.021607242754117517)\n",
      "================================================================\n",
      "DTW:  ('ping -c 1 9.9.9.9', 0.17062738532725913)\n",
      "Euclidean:  ('ping -c 1 9.9.9.9', 0.17062738532725913)\n",
      "Pearson:  ('ping -c 1 9.9.9.9', 0.01823879006199891)\n",
      "================================================================\n",
      "DTW:  ('uptime', 0.2189734001542755)\n",
      "Euclidean:  ('uptime', 0.2189734001542755)\n",
      "Pearson:  ('uptime', 0.027970097755051992)\n",
      "================================================================\n",
      "DTW:  ('mv * ../', 0.39719143135010027)\n",
      "Euclidean:  ('mv * ../', 0.39719143135010027)\n",
      "Pearson:  ('tail /var/log/syslog', 0.11123215397244046)\n"
     ]
    }
   ],
   "source": [
    "for sequence in ssh[8:14]:\n",
    "    print(\"=\" * 64)\n",
    "    print(\"DTW: \", find_best_match(sequence, cmds)[0])\n",
    "    try:\n",
    "        print(\"Euclidean: \", find_best_match_euclidean(sequence, cmds)[0])\n",
    "        print(\"Pearson: \", find_best_match_pearson(sequence, cmds)[0])\n",
    "    except:\n",
    "        print(f\"Failed at len {len(sequence)}\")"
   ]
  },
  {
   "cell_type": "code",
   "execution_count": 333,
   "id": "f8d006cd-552b-4e3a-b693-24f531204863",
   "metadata": {},
   "outputs": [
    {
     "data": {
      "text/plain": [
       "[('ping -c 1 9.9.9.9', 0.17062738532725913),\n",
       " ('uptime', 0.2558128479688104),\n",
       " ('ss -tuln', 0.36667288488562827),\n",
       " ('exit', 0.3927987828649406),\n",
       " ('wget https://', 0.3982843468954599),\n",
       " ('cat /etc/hosts', 0.4214487906593307),\n",
       " ('cat /etc/resolv.conf', 0.4290776774751878),\n",
       " ('cat /etc/passwd', 0.45850995462122424),\n",
       " ('sudo', 0.5227050914246649),\n",
       " ('vim ', 0.5781108554268531)]"
      ]
     },
     "execution_count": 333,
     "metadata": {},
     "output_type": "execute_result"
    }
   ],
   "source": [
    "find_best_match(ssh[11], cmds)[:10]"
   ]
  },
  {
   "cell_type": "code",
   "execution_count": 281,
   "id": "1acffdb8-c00f-4d90-a22c-925b4e0ac4b7",
   "metadata": {},
   "outputs": [
    {
     "data": {
      "text/plain": [
       "[('tail /var/log/syslog', 0.5650151452441321),\n",
       " ('ping -c 1 9.9.9.9', 0.5676158769782538),\n",
       " ('wget https://', 0.5931696166122332),\n",
       " ('mv * ../', 0.6078279469710011),\n",
       " ('curl http://', 0.6497668065426863),\n",
       " ('rm -rf /tmp/*', 0.6583349594372337),\n",
       " ('sudo su', 0.6702228588739484),\n",
       " ('sudo apt upgrade ', 0.7434744654309152),\n",
       " ('cat /etc/passwd', 0.7472220036094491),\n",
       " ('tar --help', 0.7556514173273715)]"
      ]
     },
     "execution_count": 281,
     "metadata": {},
     "output_type": "execute_result"
    }
   ],
   "source": [
    "find_best_match_euclidean(ssh[0], cmds)[:10]"
   ]
  },
  {
   "cell_type": "code",
   "execution_count": 282,
   "id": "31a5a378-9cd5-474a-b71b-d4aba2d37cb4",
   "metadata": {},
   "outputs": [
    {
     "data": {
      "text/plain": [
       "[('mv * ../', 0.20957258620077224),\n",
       " ('tail /var/log/syslog', 0.23594298787986168),\n",
       " ('ping -c 1 9.9.9.9', 0.25665968348528956),\n",
       " ('sudo su', 0.2624754081501731),\n",
       " ('curl http://', 0.27735584335640073),\n",
       " ('wget https://', 0.2834898608052031),\n",
       " ('rm -rf /tmp/*', 0.3384437075967125),\n",
       " ('sudo apt upgrade ', 0.35893411921701146),\n",
       " ('netstat -tuln', 0.37976720977669265),\n",
       " ('cat /etc/passwd', 0.39981061195018663)]"
      ]
     },
     "execution_count": 282,
     "metadata": {},
     "output_type": "execute_result"
    }
   ],
   "source": [
    "find_best_match_pearson(ssh[0], cmds)[:10]"
   ]
  },
  {
   "cell_type": "code",
   "execution_count": 275,
   "id": "43b956b4-84dc-47c7-9b22-48ac3990470d",
   "metadata": {},
   "outputs": [
    {
     "data": {
      "text/plain": [
       "[False,\n",
       " False,\n",
       " False,\n",
       " False,\n",
       " False,\n",
       " False,\n",
       " False,\n",
       " False,\n",
       " False,\n",
       " False,\n",
       " False,\n",
       " False,\n",
       " False,\n",
       " False,\n",
       " False]"
      ]
     },
     "execution_count": 275,
     "metadata": {},
     "output_type": "execute_result"
    }
   ],
   "source": [
    "[is_it_sudo(ssh[i], cmds) for i in range(len(ssh))] "
   ]
  }
 ],
 "metadata": {
  "kernelspec": {
   "display_name": "kanalysis",
   "language": "python",
   "name": "kanalysis"
  },
  "language_info": {
   "codemirror_mode": {
    "name": "ipython",
    "version": 3
   },
   "file_extension": ".py",
   "mimetype": "text/x-python",
   "name": "python",
   "nbconvert_exporter": "python",
   "pygments_lexer": "ipython3",
   "version": "3.9.13"
  }
 },
 "nbformat": 4,
 "nbformat_minor": 5
}
